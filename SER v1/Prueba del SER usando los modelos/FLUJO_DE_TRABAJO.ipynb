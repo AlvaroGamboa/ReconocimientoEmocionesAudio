{
  "nbformat": 4,
  "nbformat_minor": 0,
  "metadata": {
    "colab": {
      "provenance": [],
      "collapsed_sections": []
    },
    "kernelspec": {
      "name": "python3",
      "display_name": "Python 3"
    },
    "language_info": {
      "name": "python"
    }
  },
  "cells": [
    {
      "cell_type": "code",
      "source": [
        "!pip install opensmile"
      ],
      "metadata": {
        "colab": {
          "base_uri": "https://localhost:8080/"
        },
        "id": "b-7qaVr7d8wo",
        "outputId": "6fb3827c-2389-4217-a945-3531083cbdf5"
      },
      "execution_count": null,
      "outputs": [
        {
          "output_type": "stream",
          "name": "stdout",
          "text": [
            "Collecting opensmile\n",
            "  Downloading opensmile-2.4.1-py3-none-any.whl (4.5 MB)\n",
            "\u001b[K     |████████████████████████████████| 4.5 MB 15.2 MB/s \n",
            "\u001b[?25hCollecting audobject>=0.6.1\n",
            "  Downloading audobject-0.7.1-py3-none-any.whl (23 kB)\n",
            "Collecting audinterface>=0.7.0\n",
            "  Downloading audinterface-0.8.1-py3-none-any.whl (21 kB)\n",
            "Collecting audformat<2.0.0,>=0.10.1\n",
            "  Downloading audformat-0.14.2-py3-none-any.whl (48 kB)\n",
            "\u001b[K     |████████████████████████████████| 48 kB 5.2 MB/s \n",
            "\u001b[?25hCollecting audresample<2.0.0,>=1.1.0\n",
            "  Downloading audresample-1.1.0-py3-none-any.whl (635 kB)\n",
            "\u001b[K     |████████████████████████████████| 635 kB 59.0 MB/s \n",
            "\u001b[?25hCollecting audiofile>=0.4.0\n",
            "  Downloading audiofile-1.1.0-py3-none-any.whl (11 kB)\n",
            "Collecting audeer<2.0.0,>=1.18.0\n",
            "  Downloading audeer-1.18.0-py3-none-any.whl (20 kB)\n",
            "Collecting oyaml\n",
            "  Downloading oyaml-1.0-py2.py3-none-any.whl (3.0 kB)\n",
            "Collecting pyyaml>=5.4.1\n",
            "  Downloading PyYAML-6.0-cp37-cp37m-manylinux_2_5_x86_64.manylinux1_x86_64.manylinux_2_12_x86_64.manylinux2010_x86_64.whl (596 kB)\n",
            "\u001b[K     |████████████████████████████████| 596 kB 60.3 MB/s \n",
            "\u001b[?25hRequirement already satisfied: pandas!=1.3.0,!=1.3.1,!=1.3.2,!=1.3.3,!=1.4.0,>=1.1.5 in /usr/local/lib/python3.7/dist-packages (from audformat<2.0.0,>=0.10.1->audinterface>=0.7.0->opensmile) (1.3.5)\n",
            "Collecting iso-639\n",
            "  Downloading iso-639-0.4.5.tar.gz (167 kB)\n",
            "\u001b[K     |████████████████████████████████| 167 kB 59.6 MB/s \n",
            "\u001b[?25hRequirement already satisfied: tqdm in /usr/local/lib/python3.7/dist-packages (from audeer<2.0.0,>=1.18.0->audformat<2.0.0,>=0.10.1->audinterface>=0.7.0->opensmile) (4.64.0)\n",
            "Requirement already satisfied: soundfile in /usr/local/lib/python3.7/dist-packages (from audiofile>=0.4.0->audformat<2.0.0,>=0.10.1->audinterface>=0.7.0->opensmile) (0.10.3.post1)\n",
            "Collecting sox\n",
            "  Downloading sox-1.4.1-py2.py3-none-any.whl (39 kB)\n",
            "Requirement already satisfied: numpy in /usr/local/lib/python3.7/dist-packages (from audiofile>=0.4.0->audformat<2.0.0,>=0.10.1->audinterface>=0.7.0->opensmile) (1.21.6)\n",
            "Requirement already satisfied: importlib-metadata>=4.8.0 in /usr/local/lib/python3.7/dist-packages (from audobject>=0.6.1->opensmile) (4.11.3)\n",
            "Requirement already satisfied: zipp>=0.5 in /usr/local/lib/python3.7/dist-packages (from importlib-metadata>=4.8.0->audobject>=0.6.1->opensmile) (3.8.0)\n",
            "Requirement already satisfied: typing-extensions>=3.6.4 in /usr/local/lib/python3.7/dist-packages (from importlib-metadata>=4.8.0->audobject>=0.6.1->opensmile) (4.2.0)\n",
            "Requirement already satisfied: pytz>=2017.3 in /usr/local/lib/python3.7/dist-packages (from pandas!=1.3.0,!=1.3.1,!=1.3.2,!=1.3.3,!=1.4.0,>=1.1.5->audformat<2.0.0,>=0.10.1->audinterface>=0.7.0->opensmile) (2022.1)\n",
            "Requirement already satisfied: python-dateutil>=2.7.3 in /usr/local/lib/python3.7/dist-packages (from pandas!=1.3.0,!=1.3.1,!=1.3.2,!=1.3.3,!=1.4.0,>=1.1.5->audformat<2.0.0,>=0.10.1->audinterface>=0.7.0->opensmile) (2.8.2)\n",
            "Requirement already satisfied: six>=1.5 in /usr/local/lib/python3.7/dist-packages (from python-dateutil>=2.7.3->pandas!=1.3.0,!=1.3.1,!=1.3.2,!=1.3.3,!=1.4.0,>=1.1.5->audformat<2.0.0,>=0.10.1->audinterface>=0.7.0->opensmile) (1.15.0)\n",
            "Requirement already satisfied: cffi>=1.0 in /usr/local/lib/python3.7/dist-packages (from soundfile->audiofile>=0.4.0->audformat<2.0.0,>=0.10.1->audinterface>=0.7.0->opensmile) (1.15.0)\n",
            "Requirement already satisfied: pycparser in /usr/local/lib/python3.7/dist-packages (from cffi>=1.0->soundfile->audiofile>=0.4.0->audformat<2.0.0,>=0.10.1->audinterface>=0.7.0->opensmile) (2.21)\n",
            "Building wheels for collected packages: iso-639\n",
            "  Building wheel for iso-639 (setup.py) ... \u001b[?25l\u001b[?25hdone\n",
            "  Created wheel for iso-639: filename=iso_639-0.4.5-py3-none-any.whl size=169061 sha256=5d6a9a18d62c0b11bbd6b4d45ea801ce86053d224d43765c095a7253bc56c3d5\n",
            "  Stored in directory: /root/.cache/pip/wheels/47/60/19/6d020fc92138ed1b113a18271e83ea4b5525fe770cb45b9a2e\n",
            "Successfully built iso-639\n",
            "Installing collected packages: sox, pyyaml, audeer, oyaml, iso-639, audiofile, audresample, audformat, audobject, audinterface, opensmile\n",
            "  Attempting uninstall: pyyaml\n",
            "    Found existing installation: PyYAML 3.13\n",
            "    Uninstalling PyYAML-3.13:\n",
            "      Successfully uninstalled PyYAML-3.13\n",
            "Successfully installed audeer-1.18.0 audformat-0.14.2 audinterface-0.8.1 audiofile-1.1.0 audobject-0.7.1 audresample-1.1.0 iso-639-0.4.5 opensmile-2.4.1 oyaml-1.0 pyyaml-6.0 sox-1.4.1\n"
          ]
        }
      ]
    },
    {
      "cell_type": "markdown",
      "source": [
        "# **Extraccion de caracteristicas**"
      ],
      "metadata": {
        "id": "vPzXbjGtJ-YM"
      }
    },
    {
      "cell_type": "code",
      "execution_count": null,
      "metadata": {
        "id": "rAnfVS7UJESr"
      },
      "outputs": [],
      "source": [
        "import opensmile\n",
        "import audiofile\n",
        "import os\n",
        "import pandas as pd\n",
        "import numpy as np\n",
        "\n",
        "\n",
        "def ExtraerCaracteristicas (ruta): #ingresa df:Dataframe con los path de las rutas de audio , sale dataAudio con las caracteristicas LowLevelDescriptors\n",
        "  smile = opensmile.Smile(\n",
        "    feature_set=opensmile.FeatureSet.eGeMAPSv02,\n",
        "    feature_level=opensmile.FeatureLevel.LowLevelDescriptors,\n",
        "  )\n",
        "  \n",
        "  dataAudio = pd.DataFrame(columns =['Loudness_sma3',\n",
        " 'alphaRatio_sma3',\n",
        " 'hammarbergIndex_sma3',\n",
        " 'slope0-500_sma3',\n",
        " 'slope500-1500_sma3',\n",
        " 'spectralFlux_sma3',\n",
        " 'mfcc1_sma3',\n",
        " 'mfcc2_sma3',\n",
        " 'mfcc3_sma3',\n",
        " 'mfcc4_sma3',\n",
        " 'F0semitoneFrom27.5Hz_sma3nz',\n",
        " 'jitterLocal_sma3nz',\n",
        " 'shimmerLocaldB_sma3nz',\n",
        " 'HNRdBACF_sma3nz',\n",
        " 'logRelF0-H1-H2_sma3nz',\n",
        " 'logRelF0-H1-A3_sma3nz',\n",
        " 'F1frequency_sma3nz',\n",
        " 'F1bandwidth_sma3nz',\n",
        " 'F1amplitudeLogRelF0_sma3nz',\n",
        " 'F2frequency_sma3nz',\n",
        " 'F2bandwidth_sma3nz',\n",
        " 'F2amplitudeLogRelF0_sma3nz',\n",
        " 'F3frequency_sma3nz',\n",
        " 'F3bandwidth_sma3nz',\n",
        " 'F3amplitudeLogRelF0_sma3nz'], index = range(1))\n",
        "\n",
        "\n",
        "  #for n in range(ravdess_df.shape[0]):\n",
        "\n",
        "  signal, sampling_rate = audiofile.read(ruta ,  always_2d=True)\n",
        "  fn= smile.process_signal(signal, sampling_rate)\n",
        "  df_reset=fn.reset_index(drop=True)\n",
        "\n",
        "\n",
        "  dataAudio.iloc[0] = df_reset.mean()\n",
        "\n",
        "\n",
        "\n",
        "    \n",
        "  return dataAudio\n"
      ]
    },
    {
      "cell_type": "markdown",
      "source": [
        "# **Carga de Modelo de Normalizacion**"
      ],
      "metadata": {
        "id": "28Ph91aypVsV"
      }
    },
    {
      "cell_type": "code",
      "source": [
        "import joblib\n",
        "sc = joblib.load('Normalizacion.pkl')\n",
        "x_test_std = sc.transform(dato_audio)\n"
      ],
      "metadata": {
        "id": "VDJOFd8dpMwu"
      },
      "execution_count": null,
      "outputs": []
    },
    {
      "cell_type": "markdown",
      "source": [
        "# **Carga de Modelo de Machine learning**"
      ],
      "metadata": {
        "id": "jW5M4kBXpOuD"
      }
    },
    {
      "cell_type": "code",
      "source": [
        "import joblib\n",
        "clf = joblib.load('Modelo_Prueba169.pkl')\n",
        "y_predict = clf.predict(x_test_std)\n"
      ],
      "metadata": {
        "id": "nBz1YfhIquOe"
      },
      "execution_count": null,
      "outputs": []
    },
    {
      "cell_type": "code",
      "source": [
        "y_predict=np.argmax(y_predict, axis=1)\n",
        "y_predict[0]"
      ],
      "metadata": {
        "colab": {
          "base_uri": "https://localhost:8080/"
        },
        "id": "B25t_b3DtNaJ",
        "outputId": "8550b3c8-b925-474b-dd10-2a9996295bb2"
      },
      "execution_count": null,
      "outputs": [
        {
          "output_type": "execute_result",
          "data": {
            "text/plain": [
              "3"
            ]
          },
          "metadata": {},
          "execution_count": 69
        }
      ]
    },
    {
      "cell_type": "markdown",
      "source": [
        "# **TODO EL PROGRAMA**"
      ],
      "metadata": {
        "id": "sZTbia3WGFDW"
      }
    },
    {
      "cell_type": "markdown",
      "source": [
        "Prueba 169"
      ],
      "metadata": {
        "id": "hwZyTvqKOYWL"
      }
    },
    {
      "cell_type": "code",
      "source": [
        "import opensmile\n",
        "import audiofile\n",
        "import os\n",
        "import pandas as pd\n",
        "import numpy as np\n",
        "import joblib\n",
        "\n",
        "def ExtraerCaracteristicas (ruta): #ingresa df:Dataframe con los path de las rutas de audio , sale dataAudio con las caracteristicas LowLevelDescriptors\n",
        "  smile = opensmile.Smile(\n",
        "    feature_set=opensmile.FeatureSet.eGeMAPSv02,\n",
        "    feature_level=opensmile.FeatureLevel.LowLevelDescriptors,\n",
        "  )\n",
        "  \n",
        "  dataAudio = pd.DataFrame(columns =['Loudness_sma3',\n",
        " 'alphaRatio_sma3',\n",
        " 'hammarbergIndex_sma3',\n",
        " 'slope0-500_sma3',\n",
        " 'slope500-1500_sma3',\n",
        " 'spectralFlux_sma3',\n",
        " 'mfcc1_sma3',\n",
        " 'mfcc2_sma3',\n",
        " 'mfcc3_sma3',\n",
        " 'mfcc4_sma3',\n",
        " 'F0semitoneFrom27.5Hz_sma3nz',\n",
        " 'jitterLocal_sma3nz',\n",
        " 'shimmerLocaldB_sma3nz',\n",
        " 'HNRdBACF_sma3nz',\n",
        " 'logRelF0-H1-H2_sma3nz',\n",
        " 'logRelF0-H1-A3_sma3nz',\n",
        " 'F1frequency_sma3nz',\n",
        " 'F1bandwidth_sma3nz',\n",
        " 'F1amplitudeLogRelF0_sma3nz',\n",
        " 'F2frequency_sma3nz',\n",
        " 'F2bandwidth_sma3nz',\n",
        " 'F2amplitudeLogRelF0_sma3nz',\n",
        " 'F3frequency_sma3nz',\n",
        " 'F3bandwidth_sma3nz',\n",
        " 'F3amplitudeLogRelF0_sma3nz'], index = range(1))\n",
        "\n",
        "\n",
        "  #for n in range(ravdess_df.shape[0]):\n",
        "\n",
        "  signal, sampling_rate = audiofile.read(ruta ,  always_2d=True)\n",
        "  fn= smile.process_signal(signal, sampling_rate)\n",
        "  df_reset=fn.reset_index(drop=True)\n",
        "\n",
        "\n",
        "  dataAudio.iloc[0] = df_reset.mean()\n",
        "\n",
        "  return dataAudio\n",
        "##=======================================================##\n",
        "\n",
        "ruta = 'input/'+ os.listdir('input')[0]\n",
        "dato_audio = ExtraerCaracteristicas(ruta)\n",
        "sc = joblib.load('169_Normalizacion.pkl')\n",
        "x_test_std = sc.transform(dato_audio)\n",
        "clf = joblib.load('169_Modelo_Prueba.pkl')\n",
        "y_predict = clf.predict(x_test_std)\n",
        "y_predict1=np.argmax(y_predict, axis=1)\n",
        "if y_predict1[0] == 0:\n",
        "  print('Angry')\n",
        "elif y_predict1[0] == 1:\n",
        "  print('Happy')\n",
        "elif y_predict1[0] == 2:\n",
        "  print('Neutral')\n",
        "else:\n",
        "  print('Sad')  \n",
        "\n"
      ],
      "metadata": {
        "colab": {
          "base_uri": "https://localhost:8080/"
        },
        "id": "kiUy4dm6AMx8",
        "outputId": "dcd1af7c-78b5-475f-e980-a623fee1b1aa"
      },
      "execution_count": null,
      "outputs": [
        {
          "output_type": "stream",
          "name": "stdout",
          "text": [
            "Sad\n"
          ]
        }
      ]
    },
    {
      "cell_type": "markdown",
      "source": [
        "Prueba 173"
      ],
      "metadata": {
        "id": "6er_ozAeOfcC"
      }
    },
    {
      "cell_type": "code",
      "source": [
        "import opensmile\n",
        "import audiofile\n",
        "import os\n",
        "import pandas as pd\n",
        "import numpy as np\n",
        "import joblib\n",
        "\n",
        "def ExtraerCaracteristicas (ruta): #ingresa df:Dataframe con los path de las rutas de audio , sale dataAudio con las caracteristicas LowLevelDescriptors\n",
        "  smile = opensmile.Smile(\n",
        "    feature_set=opensmile.FeatureSet.eGeMAPSv02,\n",
        "    feature_level=opensmile.FeatureLevel.LowLevelDescriptors,\n",
        "  )\n",
        "  \n",
        "  dataAudio = pd.DataFrame(columns =['Loudness_sma3',\n",
        " 'alphaRatio_sma3',\n",
        " 'hammarbergIndex_sma3',\n",
        " 'slope0-500_sma3',\n",
        " 'slope500-1500_sma3',\n",
        " 'spectralFlux_sma3',\n",
        " 'mfcc1_sma3',\n",
        " 'mfcc2_sma3',\n",
        " 'mfcc3_sma3',\n",
        " 'mfcc4_sma3',\n",
        " 'F0semitoneFrom27.5Hz_sma3nz',\n",
        " 'jitterLocal_sma3nz',\n",
        " 'shimmerLocaldB_sma3nz',\n",
        " 'HNRdBACF_sma3nz',\n",
        " 'logRelF0-H1-H2_sma3nz',\n",
        " 'logRelF0-H1-A3_sma3nz',\n",
        " 'F1frequency_sma3nz',\n",
        " 'F1bandwidth_sma3nz',\n",
        " 'F1amplitudeLogRelF0_sma3nz',\n",
        " 'F2frequency_sma3nz',\n",
        " 'F2bandwidth_sma3nz',\n",
        " 'F2amplitudeLogRelF0_sma3nz',\n",
        " 'F3frequency_sma3nz',\n",
        " 'F3bandwidth_sma3nz',\n",
        " 'F3amplitudeLogRelF0_sma3nz'], index = range(1))\n",
        "\n",
        "\n",
        "  #for n in range(ravdess_df.shape[0]):\n",
        "\n",
        "  signal, sampling_rate = audiofile.read(ruta ,  always_2d=True)\n",
        "  fn= smile.process_signal(signal, sampling_rate)\n",
        "  df_reset=fn.reset_index(drop=True)\n",
        "\n",
        "\n",
        "  dataAudio.iloc[0] = df_reset.mean()\n",
        "\n",
        "  return dataAudio\n",
        "##=======================================================##\n",
        "\n",
        "ruta = 'input/'+ os.listdir('input')[0]\n",
        "dato_audio = ExtraerCaracteristicas(ruta)\n",
        "# Eliminando caracteristicas ['slope500-1500_sma3','mfcc3_sma3','logRelF0-H1-A3_sma3nz']\n",
        "dato_audio=dato_audio.drop(['slope500-1500_sma3','mfcc3_sma3','logRelF0-H1-A3_sma3nz'] , axis =1)\n",
        "sc = joblib.load('Normalizacion_seleccionCaracteristicas.pkl')\n",
        "x_test_std = sc.transform(dato_audio)\n",
        "clf = joblib.load('Modelo_Prueba173.pkl')\n",
        "y_predict = clf.predict(x_test_std)\n",
        "y_predict1=np.argmax(y_predict, axis=1)\n",
        "if y_predict1[0] == 0:\n",
        "  print('Angry')\n",
        "elif y_predict1[0] == 1:\n",
        "  print('Happy')\n",
        "elif y_predict1[0] == 2:\n",
        "  print('Neutral')\n",
        "else:\n",
        "  print('Sad')  \n",
        "\n"
      ],
      "metadata": {
        "id": "t1Ej5Ce-RNTE"
      },
      "execution_count": null,
      "outputs": []
    },
    {
      "cell_type": "markdown",
      "source": [
        "Prueba 171"
      ],
      "metadata": {
        "id": "xvaYbyy9JexW"
      }
    },
    {
      "cell_type": "code",
      "source": [
        "import opensmile\n",
        "import audiofile\n",
        "import os\n",
        "import pandas as pd\n",
        "import numpy as np\n",
        "import joblib\n",
        "\n",
        "def ExtraerCaracteristicas (ruta): #ingresa df:Dataframe con los path de las rutas de audio , sale dataAudio con las caracteristicas LowLevelDescriptors\n",
        "  smile = opensmile.Smile(\n",
        "    feature_set=opensmile.FeatureSet.eGeMAPSv02,\n",
        "    feature_level=opensmile.FeatureLevel.LowLevelDescriptors,\n",
        "  )\n",
        "  \n",
        "  dataAudio = pd.DataFrame(columns =['Loudness_sma3',\n",
        " 'alphaRatio_sma3',\n",
        " 'hammarbergIndex_sma3',\n",
        " 'slope0-500_sma3',\n",
        " 'slope500-1500_sma3',\n",
        " 'spectralFlux_sma3',\n",
        " 'mfcc1_sma3',\n",
        " 'mfcc2_sma3',\n",
        " 'mfcc3_sma3',\n",
        " 'mfcc4_sma3',\n",
        " 'F0semitoneFrom27.5Hz_sma3nz',\n",
        " 'jitterLocal_sma3nz',\n",
        " 'shimmerLocaldB_sma3nz',\n",
        " 'HNRdBACF_sma3nz',\n",
        " 'logRelF0-H1-H2_sma3nz',\n",
        " 'logRelF0-H1-A3_sma3nz',\n",
        " 'F1frequency_sma3nz',\n",
        " 'F1bandwidth_sma3nz',\n",
        " 'F1amplitudeLogRelF0_sma3nz',\n",
        " 'F2frequency_sma3nz',\n",
        " 'F2bandwidth_sma3nz',\n",
        " 'F2amplitudeLogRelF0_sma3nz',\n",
        " 'F3frequency_sma3nz',\n",
        " 'F3bandwidth_sma3nz',\n",
        " 'F3amplitudeLogRelF0_sma3nz'], index = range(1))\n",
        "\n",
        "\n",
        "  #for n in range(ravdess_df.shape[0]):\n",
        "\n",
        "  signal, sampling_rate = audiofile.read(ruta ,  always_2d=True)\n",
        "  fn= smile.process_signal(signal, sampling_rate)\n",
        "  df_reset=fn.reset_index(drop=True)\n",
        "\n",
        "\n",
        "  dataAudio.iloc[0] = df_reset.mean()\n",
        "\n",
        "  return dataAudio\n",
        "##=======================================================##\n",
        "\n",
        "ruta = 'input/'+ os.listdir('input')[0]\n",
        "dato_audio = ExtraerCaracteristicas(ruta)\n",
        "sc = joblib.load('Normalizacion_General.pkl')\n",
        "x_test_std = sc.transform(dato_audio)\n",
        "clf = joblib.load('Modelo_Prueba171.pkl')\n",
        "y_predict = clf.predict(x_test_std)\n",
        "y_predict1=np.argmax(y_predict, axis=1)\n",
        "if y_predict1[0] == 0:\n",
        "  print('Angry')\n",
        "elif y_predict1[0] == 1:\n",
        "  print('Happy')\n",
        "elif y_predict1[0] == 2:\n",
        "  print('Neutral')\n",
        "else:\n",
        "  print('Sad')  \n",
        "\n"
      ],
      "metadata": {
        "colab": {
          "base_uri": "https://localhost:8080/"
        },
        "id": "Bk87BebaK-H1",
        "outputId": "6f871d47-c6bb-455e-9f57-549213c27950"
      },
      "execution_count": null,
      "outputs": [
        {
          "output_type": "stream",
          "name": "stdout",
          "text": [
            "Happy\n"
          ]
        }
      ]
    },
    {
      "cell_type": "markdown",
      "source": [
        "Prueba 175"
      ],
      "metadata": {
        "id": "QhT5bByyZTKk"
      }
    },
    {
      "cell_type": "code",
      "source": [
        "import opensmile\n",
        "import audiofile\n",
        "import os\n",
        "import pandas as pd\n",
        "import numpy as np\n",
        "import joblib\n",
        "\n",
        "def ExtraerCaracteristicas (ruta): #ingresa df:Dataframe con los path de las rutas de audio , sale dataAudio con las caracteristicas LowLevelDescriptors\n",
        "  smile = opensmile.Smile(\n",
        "    feature_set=opensmile.FeatureSet.eGeMAPSv02,\n",
        "    feature_level=opensmile.FeatureLevel.LowLevelDescriptors,\n",
        "  )\n",
        "  \n",
        "  dataAudio = pd.DataFrame(columns =['Loudness_sma3',\n",
        " 'alphaRatio_sma3',\n",
        " 'hammarbergIndex_sma3',\n",
        " 'slope0-500_sma3',\n",
        " 'slope500-1500_sma3',\n",
        " 'spectralFlux_sma3',\n",
        " 'mfcc1_sma3',\n",
        " 'mfcc2_sma3',\n",
        " 'mfcc3_sma3',\n",
        " 'mfcc4_sma3',\n",
        " 'F0semitoneFrom27.5Hz_sma3nz',\n",
        " 'jitterLocal_sma3nz',\n",
        " 'shimmerLocaldB_sma3nz',\n",
        " 'HNRdBACF_sma3nz',\n",
        " 'logRelF0-H1-H2_sma3nz',\n",
        " 'logRelF0-H1-A3_sma3nz',\n",
        " 'F1frequency_sma3nz',\n",
        " 'F1bandwidth_sma3nz',\n",
        " 'F1amplitudeLogRelF0_sma3nz',\n",
        " 'F2frequency_sma3nz',\n",
        " 'F2bandwidth_sma3nz',\n",
        " 'F2amplitudeLogRelF0_sma3nz',\n",
        " 'F3frequency_sma3nz',\n",
        " 'F3bandwidth_sma3nz',\n",
        " 'F3amplitudeLogRelF0_sma3nz'], index = range(1))\n",
        "\n",
        "\n",
        "  #for n in range(ravdess_df.shape[0]):\n",
        "\n",
        "  signal, sampling_rate = audiofile.read(ruta ,  always_2d=True)\n",
        "  fn= smile.process_signal(signal, sampling_rate)\n",
        "  df_reset=fn.reset_index(drop=True)\n",
        "\n",
        "\n",
        "  dataAudio.iloc[0] = df_reset.mean()\n",
        "\n",
        "  return dataAudio\n",
        "##=======================================================##\n",
        "\n",
        "ruta = 'input/'+ os.listdir('input')[0]\n",
        "dato_audio = ExtraerCaracteristicas(ruta)\n",
        "# Eliminando caracteristicas ['slope500-1500_sma3','mfcc3_sma3','logRelF0-H1-A3_sma3nz']\n",
        "dato_audio=dato_audio.drop(['slope500-1500_sma3','mfcc3_sma3','logRelF0-H1-A3_sma3nz'] , axis =1)\n",
        "sc = joblib.load('Normalizacion_seleccionCaracteristicas.pkl')\n",
        "x_test_std = sc.transform(dato_audio)\n",
        "clf = joblib.load('Modelo_Prueba175.pkl')\n",
        "y_predict = clf.predict(x_test_std)\n",
        "y_predict1=np.argmax(y_predict, axis=1)\n",
        "if y_predict1[0] == 0:\n",
        "  print('Angry')\n",
        "elif y_predict1[0] == 1:\n",
        "  print('Happy')\n",
        "elif y_predict1[0] == 2:\n",
        "  print('Neutral')\n",
        "else:\n",
        "  print('Sad')  \n",
        "\n"
      ],
      "metadata": {
        "colab": {
          "base_uri": "https://localhost:8080/"
        },
        "id": "NdLVtXqGZVxL",
        "outputId": "4aa5e3c7-8f5e-4c0d-ab22-808b234ddb93"
      },
      "execution_count": null,
      "outputs": [
        {
          "output_type": "stream",
          "name": "stdout",
          "text": [
            "Sad\n"
          ]
        }
      ]
    },
    {
      "cell_type": "markdown",
      "source": [
        "Prueba 265"
      ],
      "metadata": {
        "id": "J8otu5yYARxw"
      }
    },
    {
      "cell_type": "code",
      "source": [
        "import opensmile\n",
        "import audiofile\n",
        "import os\n",
        "import pandas as pd\n",
        "import numpy as np\n",
        "import joblib\n",
        "\n",
        "def ExtraerCaracteristicas (ruta): #ingresa df:Dataframe con los path de las rutas de audio , sale dataAudio con las caracteristicas LowLevelDescriptors\n",
        "  smile = opensmile.Smile(\n",
        "    feature_set=opensmile.FeatureSet.eGeMAPSv02,\n",
        "    feature_level=opensmile.FeatureLevel.LowLevelDescriptors,\n",
        "  )\n",
        "  \n",
        "  dataAudio = pd.DataFrame(columns =['Loudness_sma3',\n",
        " 'alphaRatio_sma3',\n",
        " 'hammarbergIndex_sma3',\n",
        " 'slope0-500_sma3',\n",
        " 'slope500-1500_sma3',\n",
        " 'spectralFlux_sma3',\n",
        " 'mfcc1_sma3',\n",
        " 'mfcc2_sma3',\n",
        " 'mfcc3_sma3',\n",
        " 'mfcc4_sma3',\n",
        " 'F0semitoneFrom27.5Hz_sma3nz',\n",
        " 'jitterLocal_sma3nz',\n",
        " 'shimmerLocaldB_sma3nz',\n",
        " 'HNRdBACF_sma3nz',\n",
        " 'logRelF0-H1-H2_sma3nz',\n",
        " 'logRelF0-H1-A3_sma3nz',\n",
        " 'F1frequency_sma3nz',\n",
        " 'F1bandwidth_sma3nz',\n",
        " 'F1amplitudeLogRelF0_sma3nz',\n",
        " 'F2frequency_sma3nz',\n",
        " 'F2bandwidth_sma3nz',\n",
        " 'F2amplitudeLogRelF0_sma3nz',\n",
        " 'F3frequency_sma3nz',\n",
        " 'F3bandwidth_sma3nz',\n",
        " 'F3amplitudeLogRelF0_sma3nz'], index = range(1))\n",
        "\n",
        "\n",
        "  #for n in range(ravdess_df.shape[0]):\n",
        "\n",
        "  signal, sampling_rate = audiofile.read(ruta ,  always_2d=True)\n",
        "  fn= smile.process_signal(signal, sampling_rate)\n",
        "  df_reset=fn.reset_index(drop=True)\n",
        "\n",
        "\n",
        "  dataAudio.iloc[0] = df_reset.mean()\n",
        "\n",
        "  return dataAudio\n",
        "##=======================================================##\n",
        "\n",
        "ruta = 'input/'+ os.listdir('input')[0]\n",
        "dato_audio = ExtraerCaracteristicas(ruta)\n",
        "sc = joblib.load('265_Normalizacion.pkl')\n",
        "x_test_std = sc.transform(dato_audio)\n",
        "clf = joblib.load('265_Modelo_Prueba.pkl')\n",
        "y_predict = clf.predict(x_test_std)\n",
        "y_predict1=np.argmax(y_predict, axis=1)\n",
        "if y_predict1[0] == 0:\n",
        "  print('Angry')\n",
        "elif y_predict1[0] == 1:\n",
        "  print('Happy')\n",
        "elif y_predict1[0] == 2:\n",
        "  print('Neutral')\n",
        "else:\n",
        "  print('Sad')  \n",
        "\n"
      ],
      "metadata": {
        "colab": {
          "base_uri": "https://localhost:8080/"
        },
        "id": "ztaZTDsoAUcd",
        "outputId": "4e08984f-25c4-43b0-8738-f71180fa00b8"
      },
      "execution_count": null,
      "outputs": [
        {
          "output_type": "stream",
          "name": "stdout",
          "text": [
            "WARNING:tensorflow:6 out of the last 6 calls to <function Model.make_predict_function.<locals>.predict_function at 0x7f07525398c0> triggered tf.function retracing. Tracing is expensive and the excessive number of tracings could be due to (1) creating @tf.function repeatedly in a loop, (2) passing tensors with different shapes, (3) passing Python objects instead of tensors. For (1), please define your @tf.function outside of the loop. For (2), @tf.function has experimental_relax_shapes=True option that relaxes argument shapes that can avoid unnecessary retracing. For (3), please refer to https://www.tensorflow.org/guide/function#controlling_retracing and https://www.tensorflow.org/api_docs/python/tf/function for  more details.\n",
            "Angry\n"
          ]
        }
      ]
    },
    {
      "cell_type": "markdown",
      "source": [
        "Prueba 267"
      ],
      "metadata": {
        "id": "cJFJUIcYjkyS"
      }
    },
    {
      "cell_type": "code",
      "source": [
        "import opensmile\n",
        "import audiofile\n",
        "import os\n",
        "import pandas as pd\n",
        "import numpy as np\n",
        "import joblib\n",
        "\n",
        "def ExtraerCaracteristicas (ruta): #ingresa df:Dataframe con los path de las rutas de audio , sale dataAudio con las caracteristicas LowLevelDescriptors\n",
        "  smile = opensmile.Smile(\n",
        "    feature_set=opensmile.FeatureSet.eGeMAPSv02,\n",
        "    feature_level=opensmile.FeatureLevel.LowLevelDescriptors,\n",
        "  )\n",
        "  \n",
        "  dataAudio = pd.DataFrame(columns =['Loudness_sma3',\n",
        " 'alphaRatio_sma3',\n",
        " 'hammarbergIndex_sma3',\n",
        " 'slope0-500_sma3',\n",
        " 'slope500-1500_sma3',\n",
        " 'spectralFlux_sma3',\n",
        " 'mfcc1_sma3',\n",
        " 'mfcc2_sma3',\n",
        " 'mfcc3_sma3',\n",
        " 'mfcc4_sma3',\n",
        " 'F0semitoneFrom27.5Hz_sma3nz',\n",
        " 'jitterLocal_sma3nz',\n",
        " 'shimmerLocaldB_sma3nz',\n",
        " 'HNRdBACF_sma3nz',\n",
        " 'logRelF0-H1-H2_sma3nz',\n",
        " 'logRelF0-H1-A3_sma3nz',\n",
        " 'F1frequency_sma3nz',\n",
        " 'F1bandwidth_sma3nz',\n",
        " 'F1amplitudeLogRelF0_sma3nz',\n",
        " 'F2frequency_sma3nz',\n",
        " 'F2bandwidth_sma3nz',\n",
        " 'F2amplitudeLogRelF0_sma3nz',\n",
        " 'F3frequency_sma3nz',\n",
        " 'F3bandwidth_sma3nz',\n",
        " 'F3amplitudeLogRelF0_sma3nz'], index = range(1))\n",
        "\n",
        "\n",
        "  #for n in range(ravdess_df.shape[0]):\n",
        "\n",
        "  signal, sampling_rate = audiofile.read(ruta ,  always_2d=True)\n",
        "  fn= smile.process_signal(signal, sampling_rate)\n",
        "  df_reset=fn.reset_index(drop=True)\n",
        "\n",
        "\n",
        "  dataAudio.iloc[0] = df_reset.mean()\n",
        "\n",
        "  return dataAudio\n",
        "##=======================================================##\n",
        "\n",
        "ruta = 'input/'+ os.listdir('input')[0]\n",
        "dato_audio = ExtraerCaracteristicas(ruta)\n",
        "sc = joblib.load('267_Normalizacion.pkl')\n",
        "x_test_std = sc.transform(dato_audio)\n",
        "clf = joblib.load('267_Modelo_Prueba.pkl')\n",
        "y_predict = clf.predict(x_test_std)\n",
        "y_predict1=np.argmax(y_predict, axis=1)\n",
        "if y_predict1[0] == 0:\n",
        "  print('Angry')\n",
        "elif y_predict1[0] == 1:\n",
        "  print('Happy')\n",
        "elif y_predict1[0] == 2:\n",
        "  print('Neutral')\n",
        "else:\n",
        "  print('Sad')  \n",
        "\n"
      ],
      "metadata": {
        "colab": {
          "base_uri": "https://localhost:8080/"
        },
        "id": "EdUj6jmNjnKR",
        "outputId": "11135c94-574e-4b0d-b85b-e23752f79f11"
      },
      "execution_count": null,
      "outputs": [
        {
          "output_type": "stream",
          "name": "stdout",
          "text": [
            "Angry\n"
          ]
        }
      ]
    },
    {
      "cell_type": "markdown",
      "source": [
        "Prueba 185"
      ],
      "metadata": {
        "id": "NfN1lBaIpaen"
      }
    },
    {
      "cell_type": "code",
      "source": [
        "import opensmile\n",
        "import audiofile\n",
        "import os\n",
        "import pandas as pd\n",
        "import numpy as np\n",
        "import joblib\n",
        "import soundfile as sf\n",
        "import librosa\n",
        "def ExtraerCaracteristicas (ruta): #ingresa df:Dataframe con los path de las rutas de audio , sale dataAudio con las caracteristicas LowLevelDescriptors\n",
        "  smile = opensmile.Smile(\n",
        "    feature_set=opensmile.FeatureSet.eGeMAPSv02,\n",
        "    feature_level=opensmile.FeatureLevel.LowLevelDescriptors,\n",
        "  )\n",
        "  \n",
        "  dataAudio = pd.DataFrame(columns =['Loudness_sma3',\n",
        " 'alphaRatio_sma3',\n",
        " 'hammarbergIndex_sma3',\n",
        " 'slope0-500_sma3',\n",
        " 'slope500-1500_sma3',\n",
        " 'spectralFlux_sma3',\n",
        " 'mfcc1_sma3',\n",
        " 'mfcc2_sma3',\n",
        " 'mfcc3_sma3',\n",
        " 'mfcc4_sma3',\n",
        " 'F0semitoneFrom27.5Hz_sma3nz',\n",
        " 'jitterLocal_sma3nz',\n",
        " 'shimmerLocaldB_sma3nz',\n",
        " 'HNRdBACF_sma3nz',\n",
        " 'logRelF0-H1-H2_sma3nz',\n",
        " 'logRelF0-H1-A3_sma3nz',\n",
        " 'F1frequency_sma3nz',\n",
        " 'F1bandwidth_sma3nz',\n",
        " 'F1amplitudeLogRelF0_sma3nz',\n",
        " 'F2frequency_sma3nz',\n",
        " 'F2bandwidth_sma3nz',\n",
        " 'F2amplitudeLogRelF0_sma3nz',\n",
        " 'F3frequency_sma3nz',\n",
        " 'F3bandwidth_sma3nz',\n",
        " 'F3amplitudeLogRelF0_sma3nz'], index = range(1))\n",
        "\n",
        "\n",
        "  #for n in range(ravdess_df.shape[0]):\n",
        "\n",
        "  signal, sampling_rate = audiofile.read(ruta ,  always_2d=True)\n",
        "  fn= smile.process_signal(signal, sampling_rate)\n",
        "  df_reset=fn.reset_index(drop=True)\n",
        "\n",
        "\n",
        "  dataAudio.iloc[0] = df_reset.mean()\n",
        "\n",
        "  return dataAudio\n",
        "##=======================================================##\n",
        "\n",
        "def QuitarRuidoGENERAL (RutaOrig , RutaDest):\n",
        "\n",
        "  x , sr = librosa.load(RutaOrig)\n",
        "  clip = librosa.effects.split(x, top_db= 10)\n",
        "  wav_data = []\n",
        "  for c in clip:\n",
        "\n",
        "    datos = x[c[0]: c[1]]\n",
        "    wav_data.extend(datos)\n",
        "\n",
        "  sf.write(RutaDest, wav_data, sr)\n",
        "##========================================================##\n",
        "ruta = 'input/'+ os.listdir('input')[0]\n",
        "rutaOrigen=ruta\n",
        "RutaDestino =rutaOrigen.replace('audio_speech_actors_01-24','SinRuidoGeneral_audio_speech_actors_01-24')\n",
        "QuitarRuidoGENERAL(rutaOrigen ,RutaDestino)\n",
        "AudioSinRuido=RutaDestino\n",
        "dato_audio = ExtraerCaracteristicas(AudioSinRuido)\n",
        "sc = joblib.load('185_Normalizacion.pkl')\n",
        "x_test_std = sc.transform(dato_audio)\n",
        "clf = joblib.load('185_Modelo_Prueba.pkl')\n",
        "y_predict = clf.predict(x_test_std)\n",
        "y_predict1=np.argmax(y_predict, axis=1)\n",
        "if y_predict1[0] == 0:\n",
        "  print('Angry')\n",
        "elif y_predict1[0] == 1:\n",
        "  print('Happy')\n",
        "elif y_predict1[0] == 2:\n",
        "  print('Neutral')\n",
        "else:\n",
        "  print('Sad')  \n",
        "\n"
      ],
      "metadata": {
        "colab": {
          "base_uri": "https://localhost:8080/"
        },
        "id": "9Q7jsX5xpc-_",
        "outputId": "18037945-2b9c-4676-f173-e4aa183ee235"
      },
      "execution_count": null,
      "outputs": [
        {
          "output_type": "stream",
          "name": "stdout",
          "text": [
            "Angry\n"
          ]
        }
      ]
    },
    {
      "cell_type": "markdown",
      "source": [
        "Prueba 191"
      ],
      "metadata": {
        "id": "q4N-3j9UzZmH"
      }
    },
    {
      "cell_type": "code",
      "source": [
        "import opensmile\n",
        "import audiofile\n",
        "import os\n",
        "import pandas as pd\n",
        "import numpy as np\n",
        "import joblib\n",
        "import soundfile as sf\n",
        "import librosa\n",
        "def ExtraerCaracteristicas (ruta): #ingresa df:Dataframe con los path de las rutas de audio , sale dataAudio con las caracteristicas LowLevelDescriptors\n",
        "  smile = opensmile.Smile(\n",
        "    feature_set=opensmile.FeatureSet.eGeMAPSv02,\n",
        "    feature_level=opensmile.FeatureLevel.LowLevelDescriptors,\n",
        "  )\n",
        "  \n",
        "  dataAudio = pd.DataFrame(columns =['Loudness_sma3',\n",
        " 'alphaRatio_sma3',\n",
        " 'hammarbergIndex_sma3',\n",
        " 'slope0-500_sma3',\n",
        " 'slope500-1500_sma3',\n",
        " 'spectralFlux_sma3',\n",
        " 'mfcc1_sma3',\n",
        " 'mfcc2_sma3',\n",
        " 'mfcc3_sma3',\n",
        " 'mfcc4_sma3',\n",
        " 'F0semitoneFrom27.5Hz_sma3nz',\n",
        " 'jitterLocal_sma3nz',\n",
        " 'shimmerLocaldB_sma3nz',\n",
        " 'HNRdBACF_sma3nz',\n",
        " 'logRelF0-H1-H2_sma3nz',\n",
        " 'logRelF0-H1-A3_sma3nz',\n",
        " 'F1frequency_sma3nz',\n",
        " 'F1bandwidth_sma3nz',\n",
        " 'F1amplitudeLogRelF0_sma3nz',\n",
        " 'F2frequency_sma3nz',\n",
        " 'F2bandwidth_sma3nz',\n",
        " 'F2amplitudeLogRelF0_sma3nz',\n",
        " 'F3frequency_sma3nz',\n",
        " 'F3bandwidth_sma3nz',\n",
        " 'F3amplitudeLogRelF0_sma3nz'], index = range(1))\n",
        "\n",
        "\n",
        "  #for n in range(ravdess_df.shape[0]):\n",
        "\n",
        "  signal, sampling_rate = audiofile.read(ruta ,  always_2d=True)\n",
        "  fn= smile.process_signal(signal, sampling_rate)\n",
        "  df_reset=fn.reset_index(drop=True)\n",
        "\n",
        "\n",
        "  dataAudio.iloc[0] = df_reset.mean()\n",
        "\n",
        "  return dataAudio\n",
        "##=======================================================##\n",
        "\n",
        "def QuitarRuidoGENERAL (RutaOrig , RutaDest):\n",
        "\n",
        "  x , sr = librosa.load(RutaOrig)\n",
        "  clip = librosa.effects.split(x, top_db= 10)\n",
        "  wav_data = []\n",
        "  for c in clip:\n",
        "\n",
        "    datos = x[c[0]: c[1]]\n",
        "    wav_data.extend(datos)\n",
        "\n",
        "  sf.write(RutaDest, wav_data, sr)\n",
        "##========================================================##\n",
        "ruta = 'input/'+ os.listdir('input')[0]\n",
        "rutaOrigen=ruta\n",
        "RutaDestino =rutaOrigen.replace('input','NewAudi')\n",
        "QuitarRuidoGENERAL(rutaOrigen ,RutaDestino)\n",
        "AudioSinRuido=RutaDestino\n",
        "dato_audio = ExtraerCaracteristicas(AudioSinRuido)\n",
        "\n",
        "# Eliminando caracteristicas ['slope500-1500_sma3','mfcc3_sma3','logRelF0-H1-A3_sma3nz']\n",
        "dato_audio=dato_audio.drop(['slope500-1500_sma3','mfcc3_sma3','logRelF0-H1-A3_sma3nz'] , axis =1)\n",
        "\n",
        "sc = joblib.load('191_Normalizacion.pkl')\n",
        "x_test_std = sc.transform(dato_audio)\n",
        "clf = joblib.load('191_Modelo_Prueba.pkl')\n",
        "y_predict = clf.predict(x_test_std)\n",
        "y_predict1=np.argmax(y_predict, axis=1)\n",
        "if y_predict1[0] == 0:\n",
        "  print('Angry')\n",
        "elif y_predict1[0] == 1:\n",
        "  print('Happy')\n",
        "elif y_predict1[0] == 2:\n",
        "  print('Neutral')\n",
        "else:\n",
        "  print('Sad')  \n",
        "\n"
      ],
      "metadata": {
        "colab": {
          "base_uri": "https://localhost:8080/"
        },
        "id": "xQcHEKLMzcon",
        "outputId": "561cb729-ec73-4cfc-b05d-29ae1e28d049"
      },
      "execution_count": null,
      "outputs": [
        {
          "output_type": "stream",
          "name": "stdout",
          "text": [
            "Angry\n"
          ]
        }
      ]
    },
    {
      "cell_type": "markdown",
      "source": [
        "Prueba 156"
      ],
      "metadata": {
        "id": "j_rlzGDH48TW"
      }
    },
    {
      "cell_type": "code",
      "source": [
        "import opensmile\n",
        "import audiofile\n",
        "import os\n",
        "import pandas as pd\n",
        "import numpy as np\n",
        "import joblib\n",
        "import soundfile as sf\n",
        "import librosa\n",
        "def ExtraerCaracteristicas (ruta): #ingresa df:Dataframe con los path de las rutas de audio , sale dataAudio con las caracteristicas LowLevelDescriptors\n",
        "  smile = opensmile.Smile(\n",
        "    feature_set=opensmile.FeatureSet.eGeMAPSv02,\n",
        "    feature_level=opensmile.FeatureLevel.LowLevelDescriptors,\n",
        "  )\n",
        "  \n",
        "  dataAudio = pd.DataFrame(columns =['Loudness_sma3',\n",
        " 'alphaRatio_sma3',\n",
        " 'hammarbergIndex_sma3',\n",
        " 'slope0-500_sma3',\n",
        " 'slope500-1500_sma3',\n",
        " 'spectralFlux_sma3',\n",
        " 'mfcc1_sma3',\n",
        " 'mfcc2_sma3',\n",
        " 'mfcc3_sma3',\n",
        " 'mfcc4_sma3',\n",
        " 'F0semitoneFrom27.5Hz_sma3nz',\n",
        " 'jitterLocal_sma3nz',\n",
        " 'shimmerLocaldB_sma3nz',\n",
        " 'HNRdBACF_sma3nz',\n",
        " 'logRelF0-H1-H2_sma3nz',\n",
        " 'logRelF0-H1-A3_sma3nz',\n",
        " 'F1frequency_sma3nz',\n",
        " 'F1bandwidth_sma3nz',\n",
        " 'F1amplitudeLogRelF0_sma3nz',\n",
        " 'F2frequency_sma3nz',\n",
        " 'F2bandwidth_sma3nz',\n",
        " 'F2amplitudeLogRelF0_sma3nz',\n",
        " 'F3frequency_sma3nz',\n",
        " 'F3bandwidth_sma3nz',\n",
        " 'F3amplitudeLogRelF0_sma3nz'], index = range(1))\n",
        "\n",
        "\n",
        "  #for n in range(ravdess_df.shape[0]):\n",
        "\n",
        "  signal, sampling_rate = audiofile.read(ruta ,  always_2d=True)\n",
        "  fn= smile.process_signal(signal, sampling_rate)\n",
        "  df_reset=fn.reset_index(drop=True)\n",
        "\n",
        "\n",
        "  dataAudio.iloc[0] = df_reset.mean()\n",
        "\n",
        "  return dataAudio\n",
        "##=======================================================##\n",
        "\n",
        "def QuitarRuidoINIFIN (RutaOrig , RutaDest):\n",
        "\n",
        "  x , sr = librosa.load(RutaOrig)\n",
        "  clip = librosa.effects. trim(x, top_db= 10)\n",
        "  sf.write(RutaDest, clip[0], sr)\n",
        "\n",
        "##========================================================##\n",
        "ruta = 'input/'+ os.listdir('input')[0]\n",
        "rutaOrigen=ruta\n",
        "RutaDestino =rutaOrigen.replace('input','NewAudi')\n",
        "QuitarRuidoINIFIN(rutaOrigen ,RutaDestino)\n",
        "AudioSinRuido=RutaDestino\n",
        "dato_audio = ExtraerCaracteristicas(AudioSinRuido)\n",
        "\n",
        "\n",
        "clf = joblib.load('156_Modelo_Prueba.pkl')\n",
        "y_predict = clf.predict(dato_audio)\n",
        "\n",
        "if y_predict == 0:\n",
        "  print('Angry')\n",
        "elif y_predict == 1:\n",
        "  print('Happy')\n",
        "elif y_predict == 2:\n",
        "  print('Neutral')\n",
        "else:\n",
        "  print('Sad')  \n",
        "\n"
      ],
      "metadata": {
        "id": "5rUoV7JW5AWr",
        "colab": {
          "base_uri": "https://localhost:8080/"
        },
        "outputId": "d9189d14-0c7d-4e95-934b-85808dc5d987"
      },
      "execution_count": null,
      "outputs": [
        {
          "output_type": "stream",
          "name": "stdout",
          "text": [
            "Angry\n"
          ]
        }
      ]
    },
    {
      "cell_type": "markdown",
      "source": [
        "Prueba 154"
      ],
      "metadata": {
        "id": "lU3o9_r2bd3m"
      }
    },
    {
      "cell_type": "code",
      "source": [
        "import opensmile\n",
        "import audiofile\n",
        "import os\n",
        "import pandas as pd\n",
        "import numpy as np\n",
        "import joblib\n",
        "import soundfile as sf\n",
        "import librosa\n",
        "def ExtraerCaracteristicas (ruta): #ingresa df:Dataframe con los path de las rutas de audio , sale dataAudio con las caracteristicas LowLevelDescriptors\n",
        "  smile = opensmile.Smile(\n",
        "    feature_set=opensmile.FeatureSet.eGeMAPSv02,\n",
        "    feature_level=opensmile.FeatureLevel.LowLevelDescriptors,\n",
        "  )\n",
        "  \n",
        "  dataAudio = pd.DataFrame(columns =['Loudness_sma3',\n",
        " 'alphaRatio_sma3',\n",
        " 'hammarbergIndex_sma3',\n",
        " 'slope0-500_sma3',\n",
        " 'slope500-1500_sma3',\n",
        " 'spectralFlux_sma3',\n",
        " 'mfcc1_sma3',\n",
        " 'mfcc2_sma3',\n",
        " 'mfcc3_sma3',\n",
        " 'mfcc4_sma3',\n",
        " 'F0semitoneFrom27.5Hz_sma3nz',\n",
        " 'jitterLocal_sma3nz',\n",
        " 'shimmerLocaldB_sma3nz',\n",
        " 'HNRdBACF_sma3nz',\n",
        " 'logRelF0-H1-H2_sma3nz',\n",
        " 'logRelF0-H1-A3_sma3nz',\n",
        " 'F1frequency_sma3nz',\n",
        " 'F1bandwidth_sma3nz',\n",
        " 'F1amplitudeLogRelF0_sma3nz',\n",
        " 'F2frequency_sma3nz',\n",
        " 'F2bandwidth_sma3nz',\n",
        " 'F2amplitudeLogRelF0_sma3nz',\n",
        " 'F3frequency_sma3nz',\n",
        " 'F3bandwidth_sma3nz',\n",
        " 'F3amplitudeLogRelF0_sma3nz'], index = range(1))\n",
        "\n",
        "\n",
        "  #for n in range(ravdess_df.shape[0]):\n",
        "\n",
        "  signal, sampling_rate = audiofile.read(ruta ,  always_2d=True)\n",
        "  fn= smile.process_signal(signal, sampling_rate)\n",
        "  df_reset=fn.reset_index(drop=True)\n",
        "\n",
        "\n",
        "  dataAudio.iloc[0] = df_reset.mean()\n",
        "\n",
        "  return dataAudio\n",
        "##=======================================================##\n",
        "\n",
        "def QuitarRuidoINIFIN (RutaOrig , RutaDest):\n",
        "\n",
        "  x , sr = librosa.load(RutaOrig)\n",
        "  clip = librosa.effects. trim(x, top_db= 10)\n",
        "  sf.write(RutaDest, clip[0], sr)\n",
        "\n",
        "##========================================================##\n",
        "ruta = 'input/'+ os.listdir('input')[0]\n",
        "rutaOrigen=ruta\n",
        "RutaDestino =rutaOrigen.replace('input','NewAudi')\n",
        "QuitarRuidoINIFIN(rutaOrigen ,RutaDestino)\n",
        "AudioSinRuido=RutaDestino\n",
        "dato_audio = ExtraerCaracteristicas(AudioSinRuido)\n",
        "\n",
        "\n",
        "clf = joblib.load('154_Modelo_Prueba.pkl')\n",
        "y_predict = clf.predict(dato_audio)\n",
        "\n",
        "if y_predict == 0:\n",
        "  print('Angry')\n",
        "elif y_predict == 1:\n",
        "  print('Happy')\n",
        "elif y_predict == 2:\n",
        "  print('Neutral')\n",
        "else:\n",
        "  print('Sad')  \n",
        "\n"
      ],
      "metadata": {
        "colab": {
          "base_uri": "https://localhost:8080/"
        },
        "id": "v8zvTuAubgTW",
        "outputId": "e8d96061-5272-4def-de28-5c48108b2508"
      },
      "execution_count": null,
      "outputs": [
        {
          "output_type": "stream",
          "name": "stdout",
          "text": [
            "Angry\n"
          ]
        }
      ]
    },
    {
      "cell_type": "markdown",
      "source": [
        "Prueba 153"
      ],
      "metadata": {
        "id": "RyGC0ZjAg7Bd"
      }
    },
    {
      "cell_type": "code",
      "source": [
        "import opensmile\n",
        "import audiofile\n",
        "import os\n",
        "import pandas as pd\n",
        "import numpy as np\n",
        "import joblib\n",
        "import soundfile as sf\n",
        "import librosa\n",
        "def ExtraerCaracteristicas (ruta): #ingresa df:Dataframe con los path de las rutas de audio , sale dataAudio con las caracteristicas LowLevelDescriptors\n",
        "  smile = opensmile.Smile(\n",
        "    feature_set=opensmile.FeatureSet.eGeMAPSv02,\n",
        "    feature_level=opensmile.FeatureLevel.LowLevelDescriptors,\n",
        "  )\n",
        "  \n",
        "  dataAudio = pd.DataFrame(columns =['Loudness_sma3',\n",
        " 'alphaRatio_sma3',\n",
        " 'hammarbergIndex_sma3',\n",
        " 'slope0-500_sma3',\n",
        " 'slope500-1500_sma3',\n",
        " 'spectralFlux_sma3',\n",
        " 'mfcc1_sma3',\n",
        " 'mfcc2_sma3',\n",
        " 'mfcc3_sma3',\n",
        " 'mfcc4_sma3',\n",
        " 'F0semitoneFrom27.5Hz_sma3nz',\n",
        " 'jitterLocal_sma3nz',\n",
        " 'shimmerLocaldB_sma3nz',\n",
        " 'HNRdBACF_sma3nz',\n",
        " 'logRelF0-H1-H2_sma3nz',\n",
        " 'logRelF0-H1-A3_sma3nz',\n",
        " 'F1frequency_sma3nz',\n",
        " 'F1bandwidth_sma3nz',\n",
        " 'F1amplitudeLogRelF0_sma3nz',\n",
        " 'F2frequency_sma3nz',\n",
        " 'F2bandwidth_sma3nz',\n",
        " 'F2amplitudeLogRelF0_sma3nz',\n",
        " 'F3frequency_sma3nz',\n",
        " 'F3bandwidth_sma3nz',\n",
        " 'F3amplitudeLogRelF0_sma3nz'], index = range(1))\n",
        "\n",
        "\n",
        "  #for n in range(ravdess_df.shape[0]):\n",
        "\n",
        "  signal, sampling_rate = audiofile.read(ruta ,  always_2d=True)\n",
        "  fn= smile.process_signal(signal, sampling_rate)\n",
        "  df_reset=fn.reset_index(drop=True)\n",
        "\n",
        "\n",
        "  dataAudio.iloc[0] = df_reset.mean()\n",
        "\n",
        "  return dataAudio\n",
        "##=======================================================##\n",
        "\n",
        "def QuitarRuidoINIFIN (RutaOrig , RutaDest):\n",
        "\n",
        "  x , sr = librosa.load(RutaOrig)\n",
        "  clip = librosa.effects. trim(x, top_db= 10)\n",
        "  sf.write(RutaDest, clip[0], sr)\n",
        "\n",
        "##========================================================##\n",
        "ruta = 'input/'+ os.listdir('input')[0]\n",
        "rutaOrigen=ruta\n",
        "RutaDestino =rutaOrigen.replace('input','NewAudi')\n",
        "QuitarRuidoINIFIN(rutaOrigen ,RutaDestino)\n",
        "AudioSinRuido=RutaDestino\n",
        "dato_audio = ExtraerCaracteristicas(AudioSinRuido)\n",
        "\n",
        "sc = joblib.load('153_Normalizacion.pkl')\n",
        "x_test_std = sc.transform(dato_audio)\n",
        "clf = joblib.load('153_Modelo_Prueba.pkl')\n",
        "y_predict = clf.predict(x_test_std)\n",
        "\n",
        "if y_predict == 0:\n",
        "  print('Angry')\n",
        "elif y_predict == 1:\n",
        "  print('Happy')\n",
        "elif y_predict == 2:\n",
        "  print('Neutral')\n",
        "else:\n",
        "  print('Sad')  \n",
        "\n"
      ],
      "metadata": {
        "colab": {
          "base_uri": "https://localhost:8080/"
        },
        "id": "u5Hbw_P1lRql",
        "outputId": "00fcf410-d75e-4098-c4ca-207f1cedde02"
      },
      "execution_count": null,
      "outputs": [
        {
          "output_type": "stream",
          "name": "stdout",
          "text": [
            "Angry\n"
          ]
        }
      ]
    },
    {
      "cell_type": "markdown",
      "source": [
        "Prueba 243"
      ],
      "metadata": {
        "id": "iW09HDUOZ7s6"
      }
    },
    {
      "cell_type": "code",
      "source": [
        "import opensmile\n",
        "import audiofile\n",
        "import os\n",
        "import pandas as pd\n",
        "import numpy as np\n",
        "import joblib\n",
        "\n",
        "def ExtraerCaracteristicas (ruta): #ingresa df:Dataframe con los path de las rutas de audio , sale dataAudio con las caracteristicas LowLevelDescriptors\n",
        "  smile = opensmile.Smile(\n",
        "    feature_set=opensmile.FeatureSet.eGeMAPSv02,\n",
        "    feature_level=opensmile.FeatureLevel.LowLevelDescriptors,\n",
        "  )\n",
        "  \n",
        "  dataAudio = pd.DataFrame(columns =['Loudness_sma3',\n",
        " 'alphaRatio_sma3',\n",
        " 'hammarbergIndex_sma3',\n",
        " 'slope0-500_sma3',\n",
        " 'slope500-1500_sma3',\n",
        " 'spectralFlux_sma3',\n",
        " 'mfcc1_sma3',\n",
        " 'mfcc2_sma3',\n",
        " 'mfcc3_sma3',\n",
        " 'mfcc4_sma3',\n",
        " 'F0semitoneFrom27.5Hz_sma3nz',\n",
        " 'jitterLocal_sma3nz',\n",
        " 'shimmerLocaldB_sma3nz',\n",
        " 'HNRdBACF_sma3nz',\n",
        " 'logRelF0-H1-H2_sma3nz',\n",
        " 'logRelF0-H1-A3_sma3nz',\n",
        " 'F1frequency_sma3nz',\n",
        " 'F1bandwidth_sma3nz',\n",
        " 'F1amplitudeLogRelF0_sma3nz',\n",
        " 'F2frequency_sma3nz',\n",
        " 'F2bandwidth_sma3nz',\n",
        " 'F2amplitudeLogRelF0_sma3nz',\n",
        " 'F3frequency_sma3nz',\n",
        " 'F3bandwidth_sma3nz',\n",
        " 'F3amplitudeLogRelF0_sma3nz'], index = range(1))\n",
        "\n",
        "\n",
        "  #for n in range(ravdess_df.shape[0]):\n",
        "\n",
        "  signal, sampling_rate = audiofile.read(ruta ,  always_2d=True)\n",
        "  fn= smile.process_signal(signal, sampling_rate)\n",
        "  df_reset=fn.reset_index(drop=True)\n",
        "\n",
        "\n",
        "  dataAudio.iloc[0] = df_reset.mean()\n",
        "\n",
        "  return dataAudio\n",
        "##=======================================================##\n",
        "\n",
        "ruta = 'input/'+ os.listdir('input')[0]\n",
        "dato_audio = ExtraerCaracteristicas(ruta)\n",
        "sc = joblib.load('243_Normalizacion.pkl')\n",
        "x_test_std = sc.transform(dato_audio)\n",
        "clf = joblib.load('243_Modelo_Prueba.pkl')\n",
        "y_predict = clf.predict(x_test_std)\n",
        "\n",
        "if y_predict[0] == 0:\n",
        "  print('Angry')\n",
        "elif y_predict[0] == 1:\n",
        "  print('Happy')\n",
        "elif y_predict[0] == 2:\n",
        "  print('Neutral')\n",
        "else:\n",
        "  print('Sad')  \n",
        "\n"
      ],
      "metadata": {
        "colab": {
          "base_uri": "https://localhost:8080/"
        },
        "id": "jqwLcgmnZ_Nh",
        "outputId": "c9c4665b-93a2-45a2-e3f2-33e5759a18fb"
      },
      "execution_count": null,
      "outputs": [
        {
          "output_type": "stream",
          "name": "stdout",
          "text": [
            "Angry\n"
          ]
        }
      ]
    },
    {
      "cell_type": "markdown",
      "source": [
        "Prueba 244"
      ],
      "metadata": {
        "id": "SURW1IAVP2sj"
      }
    },
    {
      "cell_type": "code",
      "source": [
        "import opensmile\n",
        "import audiofile\n",
        "import os\n",
        "import pandas as pd\n",
        "import numpy as np\n",
        "import joblib\n",
        "\n",
        "def ExtraerCaracteristicas (ruta): #ingresa df:Dataframe con los path de las rutas de audio , sale dataAudio con las caracteristicas LowLevelDescriptors\n",
        "  smile = opensmile.Smile(\n",
        "    feature_set=opensmile.FeatureSet.eGeMAPSv02,\n",
        "    feature_level=opensmile.FeatureLevel.LowLevelDescriptors,\n",
        "  )\n",
        "  \n",
        "  dataAudio = pd.DataFrame(columns =['Loudness_sma3',\n",
        " 'alphaRatio_sma3',\n",
        " 'hammarbergIndex_sma3',\n",
        " 'slope0-500_sma3',\n",
        " 'slope500-1500_sma3',\n",
        " 'spectralFlux_sma3',\n",
        " 'mfcc1_sma3',\n",
        " 'mfcc2_sma3',\n",
        " 'mfcc3_sma3',\n",
        " 'mfcc4_sma3',\n",
        " 'F0semitoneFrom27.5Hz_sma3nz',\n",
        " 'jitterLocal_sma3nz',\n",
        " 'shimmerLocaldB_sma3nz',\n",
        " 'HNRdBACF_sma3nz',\n",
        " 'logRelF0-H1-H2_sma3nz',\n",
        " 'logRelF0-H1-A3_sma3nz',\n",
        " 'F1frequency_sma3nz',\n",
        " 'F1bandwidth_sma3nz',\n",
        " 'F1amplitudeLogRelF0_sma3nz',\n",
        " 'F2frequency_sma3nz',\n",
        " 'F2bandwidth_sma3nz',\n",
        " 'F2amplitudeLogRelF0_sma3nz',\n",
        " 'F3frequency_sma3nz',\n",
        " 'F3bandwidth_sma3nz',\n",
        " 'F3amplitudeLogRelF0_sma3nz'], index = range(1))\n",
        "\n",
        "\n",
        "  #for n in range(ravdess_df.shape[0]):\n",
        "\n",
        "  signal, sampling_rate = audiofile.read(ruta ,  always_2d=True)\n",
        "  fn= smile.process_signal(signal, sampling_rate)\n",
        "  df_reset=fn.reset_index(drop=True)\n",
        "\n",
        "\n",
        "  dataAudio.iloc[0] = df_reset.mean()\n",
        "\n",
        "  return dataAudio\n",
        "##=======================================================##\n",
        "\n",
        "ruta = 'input/'+ os.listdir('input')[0]\n",
        "dato_audio = ExtraerCaracteristicas(ruta)\n",
        " \n",
        "clf = joblib.load('244_Modelo_Prueba.pkl')\n",
        "y_predict = clf.predict(dato_audio)\n",
        "\n",
        "if y_predict[0] == 0:\n",
        "  print('Angry')\n",
        "elif y_predict[0] == 1:\n",
        "  print('Happy')\n",
        "elif y_predict[0] == 2:\n",
        "  print('Neutral')\n",
        "else:\n",
        "  print('Sad')  \n",
        "\n"
      ],
      "metadata": {
        "colab": {
          "base_uri": "https://localhost:8080/"
        },
        "outputId": "7c548551-b7f0-4235-b567-1bb0d34a5ae2",
        "id": "4ZRXACsNQDq4"
      },
      "execution_count": null,
      "outputs": [
        {
          "output_type": "stream",
          "name": "stdout",
          "text": [
            "Angry\n"
          ]
        }
      ]
    },
    {
      "cell_type": "markdown",
      "source": [
        "Prueba 246"
      ],
      "metadata": {
        "id": "67dCe3X8yKwD"
      }
    },
    {
      "cell_type": "code",
      "source": [
        "import opensmile\n",
        "import audiofile\n",
        "import os\n",
        "import pandas as pd\n",
        "import numpy as np\n",
        "import joblib\n",
        "\n",
        "def ExtraerCaracteristicas (ruta): #ingresa df:Dataframe con los path de las rutas de audio , sale dataAudio con las caracteristicas LowLevelDescriptors\n",
        "  smile = opensmile.Smile(\n",
        "    feature_set=opensmile.FeatureSet.eGeMAPSv02,\n",
        "    feature_level=opensmile.FeatureLevel.LowLevelDescriptors,\n",
        "  )\n",
        "  \n",
        "  dataAudio = pd.DataFrame(columns =['Loudness_sma3',\n",
        " 'alphaRatio_sma3',\n",
        " 'hammarbergIndex_sma3',\n",
        " 'slope0-500_sma3',\n",
        " 'slope500-1500_sma3',\n",
        " 'spectralFlux_sma3',\n",
        " 'mfcc1_sma3',\n",
        " 'mfcc2_sma3',\n",
        " 'mfcc3_sma3',\n",
        " 'mfcc4_sma3',\n",
        " 'F0semitoneFrom27.5Hz_sma3nz',\n",
        " 'jitterLocal_sma3nz',\n",
        " 'shimmerLocaldB_sma3nz',\n",
        " 'HNRdBACF_sma3nz',\n",
        " 'logRelF0-H1-H2_sma3nz',\n",
        " 'logRelF0-H1-A3_sma3nz',\n",
        " 'F1frequency_sma3nz',\n",
        " 'F1bandwidth_sma3nz',\n",
        " 'F1amplitudeLogRelF0_sma3nz',\n",
        " 'F2frequency_sma3nz',\n",
        " 'F2bandwidth_sma3nz',\n",
        " 'F2amplitudeLogRelF0_sma3nz',\n",
        " 'F3frequency_sma3nz',\n",
        " 'F3bandwidth_sma3nz',\n",
        " 'F3amplitudeLogRelF0_sma3nz'], index = range(1))\n",
        "\n",
        "\n",
        "  #for n in range(ravdess_df.shape[0]):\n",
        "\n",
        "  signal, sampling_rate = audiofile.read(ruta ,  always_2d=True)\n",
        "  fn= smile.process_signal(signal, sampling_rate)\n",
        "  df_reset=fn.reset_index(drop=True)\n",
        "\n",
        "\n",
        "  dataAudio.iloc[0] = df_reset.mean()\n",
        "\n",
        "  return dataAudio\n",
        "##=======================================================##\n",
        "\n",
        "ruta = 'input/'+ os.listdir('input')[0]\n",
        "dato_audio = ExtraerCaracteristicas(ruta)\n",
        "\n",
        "# Eliminando caracteristicas ['slope500-1500_sma3','mfcc3_sma3','logRelF0-H1-A3_sma3nz']\n",
        "dato_audio=dato_audio.drop(['slope500-1500_sma3','mfcc3_sma3','logRelF0-H1-A3_sma3nz'] , axis =1)\n",
        "\n",
        "clf = joblib.load('246_Modelo_Prueba.pkl')\n",
        "y_predict = clf.predict(dato_audio)\n",
        "\n",
        "if y_predict[0] == 0:\n",
        "  print('Angry')\n",
        "elif y_predict[0] == 1:\n",
        "  print('Happy')\n",
        "elif y_predict[0] == 2:\n",
        "  print('Neutral')\n",
        "else:\n",
        "  print('Sad')  \n",
        "\n"
      ],
      "metadata": {
        "colab": {
          "base_uri": "https://localhost:8080/"
        },
        "id": "zIMv6_fbyNe4",
        "outputId": "f0732c7a-b625-4f54-b590-c88293d2dfef"
      },
      "execution_count": null,
      "outputs": [
        {
          "output_type": "stream",
          "name": "stdout",
          "text": [
            "Angry\n"
          ]
        }
      ]
    },
    {
      "cell_type": "markdown",
      "source": [
        "Prueba 247"
      ],
      "metadata": {
        "id": "u6-nD4Et3otK"
      }
    },
    {
      "cell_type": "code",
      "source": [
        "import opensmile\n",
        "import audiofile\n",
        "import os\n",
        "import pandas as pd\n",
        "import numpy as np\n",
        "import joblib\n",
        "\n",
        "def ExtraerCaracteristicas (ruta): #ingresa df:Dataframe con los path de las rutas de audio , sale dataAudio con las caracteristicas LowLevelDescriptors\n",
        "  smile = opensmile.Smile(\n",
        "    feature_set=opensmile.FeatureSet.eGeMAPSv02,\n",
        "    feature_level=opensmile.FeatureLevel.LowLevelDescriptors,\n",
        "  )\n",
        "  \n",
        "  dataAudio = pd.DataFrame(columns =['Loudness_sma3',\n",
        " 'alphaRatio_sma3',\n",
        " 'hammarbergIndex_sma3',\n",
        " 'slope0-500_sma3',\n",
        " 'slope500-1500_sma3',\n",
        " 'spectralFlux_sma3',\n",
        " 'mfcc1_sma3',\n",
        " 'mfcc2_sma3',\n",
        " 'mfcc3_sma3',\n",
        " 'mfcc4_sma3',\n",
        " 'F0semitoneFrom27.5Hz_sma3nz',\n",
        " 'jitterLocal_sma3nz',\n",
        " 'shimmerLocaldB_sma3nz',\n",
        " 'HNRdBACF_sma3nz',\n",
        " 'logRelF0-H1-H2_sma3nz',\n",
        " 'logRelF0-H1-A3_sma3nz',\n",
        " 'F1frequency_sma3nz',\n",
        " 'F1bandwidth_sma3nz',\n",
        " 'F1amplitudeLogRelF0_sma3nz',\n",
        " 'F2frequency_sma3nz',\n",
        " 'F2bandwidth_sma3nz',\n",
        " 'F2amplitudeLogRelF0_sma3nz',\n",
        " 'F3frequency_sma3nz',\n",
        " 'F3bandwidth_sma3nz',\n",
        " 'F3amplitudeLogRelF0_sma3nz'], index = range(1))\n",
        "\n",
        "\n",
        "  #for n in range(ravdess_df.shape[0]):\n",
        "\n",
        "  signal, sampling_rate = audiofile.read(ruta ,  always_2d=True)\n",
        "  fn= smile.process_signal(signal, sampling_rate)\n",
        "  df_reset=fn.reset_index(drop=True)\n",
        "\n",
        "\n",
        "  dataAudio.iloc[0] = df_reset.mean()\n",
        "\n",
        "  return dataAudio\n",
        "##=======================================================##\n",
        "\n",
        "ruta = 'input/'+ os.listdir('input')[0]\n",
        "dato_audio = ExtraerCaracteristicas(ruta)\n",
        "\n",
        "# Eliminando caracteristicas ['slope500-1500_sma3','mfcc3_sma3','logRelF0-H1-A3_sma3nz']\n",
        "dato_audio=dato_audio.drop(['slope500-1500_sma3','mfcc3_sma3','logRelF0-H1-A3_sma3nz'] , axis =1)\n",
        "\n",
        "sc = joblib.load('247_Normalizacion.pkl')\n",
        "x_test_std = sc.transform(dato_audio)\n",
        "clf = joblib.load('247_Modelo_Prueba.pkl')\n",
        "y_predict = clf.predict(x_test_std)\n",
        "\n",
        "if y_predict[0] == 0:\n",
        "  print('Angry')\n",
        "elif y_predict[0] == 1:\n",
        "  print('Happy')\n",
        "elif y_predict[0] == 2:\n",
        "  print('Neutral')\n",
        "else:\n",
        "  print('Sad')  \n",
        "\n"
      ],
      "metadata": {
        "colab": {
          "base_uri": "https://localhost:8080/"
        },
        "id": "-0god_hz3rDg",
        "outputId": "ca5b6a2e-06ff-4f5c-fb37-bc0e5c406fa4"
      },
      "execution_count": null,
      "outputs": [
        {
          "output_type": "stream",
          "name": "stdout",
          "text": [
            "Angry\n"
          ]
        }
      ]
    },
    {
      "cell_type": "markdown",
      "source": [
        "Prueba 248"
      ],
      "metadata": {
        "id": "FeMFToD88hRH"
      }
    },
    {
      "cell_type": "code",
      "source": [
        "import opensmile\n",
        "import audiofile\n",
        "import os\n",
        "import pandas as pd\n",
        "import numpy as np\n",
        "import joblib\n",
        "\n",
        "def ExtraerCaracteristicas (ruta): #ingresa df:Dataframe con los path de las rutas de audio , sale dataAudio con las caracteristicas LowLevelDescriptors\n",
        "  smile = opensmile.Smile(\n",
        "    feature_set=opensmile.FeatureSet.eGeMAPSv02,\n",
        "    feature_level=opensmile.FeatureLevel.LowLevelDescriptors,\n",
        "  )\n",
        "  \n",
        "  dataAudio = pd.DataFrame(columns =['Loudness_sma3',\n",
        " 'alphaRatio_sma3',\n",
        " 'hammarbergIndex_sma3',\n",
        " 'slope0-500_sma3',\n",
        " 'slope500-1500_sma3',\n",
        " 'spectralFlux_sma3',\n",
        " 'mfcc1_sma3',\n",
        " 'mfcc2_sma3',\n",
        " 'mfcc3_sma3',\n",
        " 'mfcc4_sma3',\n",
        " 'F0semitoneFrom27.5Hz_sma3nz',\n",
        " 'jitterLocal_sma3nz',\n",
        " 'shimmerLocaldB_sma3nz',\n",
        " 'HNRdBACF_sma3nz',\n",
        " 'logRelF0-H1-H2_sma3nz',\n",
        " 'logRelF0-H1-A3_sma3nz',\n",
        " 'F1frequency_sma3nz',\n",
        " 'F1bandwidth_sma3nz',\n",
        " 'F1amplitudeLogRelF0_sma3nz',\n",
        " 'F2frequency_sma3nz',\n",
        " 'F2bandwidth_sma3nz',\n",
        " 'F2amplitudeLogRelF0_sma3nz',\n",
        " 'F3frequency_sma3nz',\n",
        " 'F3bandwidth_sma3nz',\n",
        " 'F3amplitudeLogRelF0_sma3nz'], index = range(1))\n",
        "\n",
        "\n",
        "  #for n in range(ravdess_df.shape[0]):\n",
        "\n",
        "  signal, sampling_rate = audiofile.read(ruta ,  always_2d=True)\n",
        "  fn= smile.process_signal(signal, sampling_rate)\n",
        "  df_reset=fn.reset_index(drop=True)\n",
        "\n",
        "\n",
        "  dataAudio.iloc[0] = df_reset.mean()\n",
        "\n",
        "  return dataAudio\n",
        "##=======================================================##\n",
        "\n",
        "ruta = 'input/'+ os.listdir('input')[0]\n",
        "dato_audio = ExtraerCaracteristicas(ruta)\n",
        "\n",
        "# Eliminando caracteristicas ['slope500-1500_sma3','mfcc3_sma3','logRelF0-H1-A3_sma3nz']\n",
        "dato_audio=dato_audio.drop(['slope500-1500_sma3','mfcc3_sma3','logRelF0-H1-A3_sma3nz'] , axis =1)\n",
        "\n",
        "clf = joblib.load('248_Modelo_Prueba.pkl')\n",
        "y_predict = clf.predict(dato_audio)\n",
        "\n",
        "if y_predict[0] == 0:\n",
        "  print('Angry')\n",
        "elif y_predict[0] == 1:\n",
        "  print('Happy')\n",
        "elif y_predict[0] == 2:\n",
        "  print('Neutral')\n",
        "else:\n",
        "  print('Sad')  \n",
        "\n"
      ],
      "metadata": {
        "colab": {
          "base_uri": "https://localhost:8080/"
        },
        "id": "-8ekpQ-O8i_8",
        "outputId": "ea191ba6-6215-42cf-d2da-fa3ba22d5a03"
      },
      "execution_count": null,
      "outputs": [
        {
          "output_type": "stream",
          "name": "stdout",
          "text": [
            "Angry\n"
          ]
        }
      ]
    },
    {
      "cell_type": "markdown",
      "source": [
        "Prueba 148"
      ],
      "metadata": {
        "id": "08g6W5xI-BiB"
      }
    },
    {
      "cell_type": "code",
      "source": [
        "import opensmile\n",
        "import audiofile\n",
        "import os\n",
        "import pandas as pd\n",
        "import numpy as np\n",
        "import joblib\n",
        "\n",
        "def ExtraerCaracteristicas (ruta): #ingresa df:Dataframe con los path de las rutas de audio , sale dataAudio con las caracteristicas LowLevelDescriptors\n",
        "  smile = opensmile.Smile(\n",
        "    feature_set=opensmile.FeatureSet.eGeMAPSv02,\n",
        "    feature_level=opensmile.FeatureLevel.LowLevelDescriptors,\n",
        "  )\n",
        "  \n",
        "  dataAudio = pd.DataFrame(columns =['Loudness_sma3',\n",
        " 'alphaRatio_sma3',\n",
        " 'hammarbergIndex_sma3',\n",
        " 'slope0-500_sma3',\n",
        " 'slope500-1500_sma3',\n",
        " 'spectralFlux_sma3',\n",
        " 'mfcc1_sma3',\n",
        " 'mfcc2_sma3',\n",
        " 'mfcc3_sma3',\n",
        " 'mfcc4_sma3',\n",
        " 'F0semitoneFrom27.5Hz_sma3nz',\n",
        " 'jitterLocal_sma3nz',\n",
        " 'shimmerLocaldB_sma3nz',\n",
        " 'HNRdBACF_sma3nz',\n",
        " 'logRelF0-H1-H2_sma3nz',\n",
        " 'logRelF0-H1-A3_sma3nz',\n",
        " 'F1frequency_sma3nz',\n",
        " 'F1bandwidth_sma3nz',\n",
        " 'F1amplitudeLogRelF0_sma3nz',\n",
        " 'F2frequency_sma3nz',\n",
        " 'F2bandwidth_sma3nz',\n",
        " 'F2amplitudeLogRelF0_sma3nz',\n",
        " 'F3frequency_sma3nz',\n",
        " 'F3bandwidth_sma3nz',\n",
        " 'F3amplitudeLogRelF0_sma3nz'], index = range(1))\n",
        "\n",
        "\n",
        "  #for n in range(ravdess_df.shape[0]):\n",
        "\n",
        "  signal, sampling_rate = audiofile.read(ruta ,  always_2d=True)\n",
        "  fn= smile.process_signal(signal, sampling_rate)\n",
        "  df_reset=fn.reset_index(drop=True)\n",
        "\n",
        "\n",
        "  dataAudio.iloc[0] = df_reset.mean()\n",
        "\n",
        "  return dataAudio\n",
        "##=======================================================##\n",
        "\n",
        "ruta = 'input/'+ os.listdir('input')[0]\n",
        "dato_audio = ExtraerCaracteristicas(ruta)\n",
        "\n",
        "clf = joblib.load('148_Modelo_Prueba.pkl')\n",
        "y_predict = clf.predict(dato_audio)\n",
        "\n",
        "if y_predict[0] == 0:\n",
        "  print('Angry')\n",
        "elif y_predict[0] == 1:\n",
        "  print('Happy')\n",
        "elif y_predict[0] == 2:\n",
        "  print('Neutral')\n",
        "else:\n",
        "  print('Sad')  \n",
        "\n"
      ],
      "metadata": {
        "colab": {
          "base_uri": "https://localhost:8080/"
        },
        "id": "eZF0J7PC-C7P",
        "outputId": "90a93d4d-8e3c-42cf-8405-9de9ac2db5ca"
      },
      "execution_count": null,
      "outputs": [
        {
          "output_type": "stream",
          "name": "stdout",
          "text": [
            "Sad\n"
          ]
        }
      ]
    },
    {
      "cell_type": "markdown",
      "source": [
        "Prueba 155"
      ],
      "metadata": {
        "id": "Z-svtV1WBwNy"
      }
    },
    {
      "cell_type": "code",
      "source": [
        "import opensmile\n",
        "import audiofile\n",
        "import os\n",
        "import pandas as pd\n",
        "import numpy as np\n",
        "import joblib\n",
        "import librosa\n",
        "import soundfile as sf\n",
        "\n",
        "def ExtraerCaracteristicas (ruta): #ingresa df:Dataframe con los path de las rutas de audio , sale dataAudio con las caracteristicas LowLevelDescriptors\n",
        "  smile = opensmile.Smile(\n",
        "    feature_set=opensmile.FeatureSet.eGeMAPSv02,\n",
        "    feature_level=opensmile.FeatureLevel.LowLevelDescriptors,\n",
        "  )\n",
        "  \n",
        "  dataAudio = pd.DataFrame(columns =['Loudness_sma3',\n",
        " 'alphaRatio_sma3',\n",
        " 'hammarbergIndex_sma3',\n",
        " 'slope0-500_sma3',\n",
        " 'slope500-1500_sma3',\n",
        " 'spectralFlux_sma3',\n",
        " 'mfcc1_sma3',\n",
        " 'mfcc2_sma3',\n",
        " 'mfcc3_sma3',\n",
        " 'mfcc4_sma3',\n",
        " 'F0semitoneFrom27.5Hz_sma3nz',\n",
        " 'jitterLocal_sma3nz',\n",
        " 'shimmerLocaldB_sma3nz',\n",
        " 'HNRdBACF_sma3nz',\n",
        " 'logRelF0-H1-H2_sma3nz',\n",
        " 'logRelF0-H1-A3_sma3nz',\n",
        " 'F1frequency_sma3nz',\n",
        " 'F1bandwidth_sma3nz',\n",
        " 'F1amplitudeLogRelF0_sma3nz',\n",
        " 'F2frequency_sma3nz',\n",
        " 'F2bandwidth_sma3nz',\n",
        " 'F2amplitudeLogRelF0_sma3nz',\n",
        " 'F3frequency_sma3nz',\n",
        " 'F3bandwidth_sma3nz',\n",
        " 'F3amplitudeLogRelF0_sma3nz'], index = range(1))\n",
        "\n",
        "\n",
        "  #for n in range(ravdess_df.shape[0]):\n",
        "\n",
        "  signal, sampling_rate = audiofile.read(ruta ,  always_2d=True)\n",
        "  fn= smile.process_signal(signal, sampling_rate)\n",
        "  df_reset=fn.reset_index(drop=True)\n",
        "\n",
        "\n",
        "  dataAudio.iloc[0] = df_reset.mean()\n",
        "\n",
        "  return dataAudio\n",
        "\n",
        "##=======================================================##\n",
        "\n",
        "def QuitarRuidoINIFIN (RutaOrig , RutaDest):\n",
        "\n",
        "  x , sr = librosa.load(RutaOrig)\n",
        "  clip = librosa.effects. trim(x, top_db= 10)\n",
        "  sf.write(RutaDest, clip[0], sr)\n",
        "\n",
        "##========================================================##\n",
        "ruta = 'input/'+ os.listdir('input')[0]\n",
        "rutaOrigen=ruta\n",
        "RutaDestino =rutaOrigen.replace('input','NewAudi')\n",
        "QuitarRuidoINIFIN(rutaOrigen ,RutaDestino)\n",
        "AudioSinRuido=RutaDestino\n",
        "dato_audio = ExtraerCaracteristicas(AudioSinRuido)\n",
        "\n",
        "sc = joblib.load('155_Normalizacion.pkl')\n",
        "x_test_std = sc.transform(dato_audio)\n",
        "clf = joblib.load('155_Modelo_Prueba.pkl')\n",
        "y_predict = clf.predict(x_test_std)\n",
        "\n",
        "if y_predict == 0:\n",
        "  print('Angry')\n",
        "elif y_predict == 1:\n",
        "  print('Happy')\n",
        "elif y_predict == 2:\n",
        "  print('Neutral')\n",
        "else:\n",
        "  print('Sad')  \n"
      ],
      "metadata": {
        "colab": {
          "base_uri": "https://localhost:8080/"
        },
        "id": "QyCW4xuBCTHV",
        "outputId": "5a21873b-29af-40f7-d5bb-4d340be830dc"
      },
      "execution_count": null,
      "outputs": [
        {
          "output_type": "stream",
          "name": "stdout",
          "text": [
            "Angry\n"
          ]
        }
      ]
    },
    {
      "cell_type": "markdown",
      "source": [
        "Prueba 189"
      ],
      "metadata": {
        "id": "BPp5gr9BGd0y"
      }
    },
    {
      "cell_type": "code",
      "source": [
        "import opensmile\n",
        "import audiofile\n",
        "import os\n",
        "import pandas as pd\n",
        "import numpy as np\n",
        "import joblib\n",
        "import soundfile as sf\n",
        "import librosa\n",
        "def ExtraerCaracteristicas (ruta): #ingresa df:Dataframe con los path de las rutas de audio , sale dataAudio con las caracteristicas LowLevelDescriptors\n",
        "  smile = opensmile.Smile(\n",
        "    feature_set=opensmile.FeatureSet.eGeMAPSv02,\n",
        "    feature_level=opensmile.FeatureLevel.LowLevelDescriptors,\n",
        "  )\n",
        "  \n",
        "  dataAudio = pd.DataFrame(columns =['Loudness_sma3',\n",
        " 'alphaRatio_sma3',\n",
        " 'hammarbergIndex_sma3',\n",
        " 'slope0-500_sma3',\n",
        " 'slope500-1500_sma3',\n",
        " 'spectralFlux_sma3',\n",
        " 'mfcc1_sma3',\n",
        " 'mfcc2_sma3',\n",
        " 'mfcc3_sma3',\n",
        " 'mfcc4_sma3',\n",
        " 'F0semitoneFrom27.5Hz_sma3nz',\n",
        " 'jitterLocal_sma3nz',\n",
        " 'shimmerLocaldB_sma3nz',\n",
        " 'HNRdBACF_sma3nz',\n",
        " 'logRelF0-H1-H2_sma3nz',\n",
        " 'logRelF0-H1-A3_sma3nz',\n",
        " 'F1frequency_sma3nz',\n",
        " 'F1bandwidth_sma3nz',\n",
        " 'F1amplitudeLogRelF0_sma3nz',\n",
        " 'F2frequency_sma3nz',\n",
        " 'F2bandwidth_sma3nz',\n",
        " 'F2amplitudeLogRelF0_sma3nz',\n",
        " 'F3frequency_sma3nz',\n",
        " 'F3bandwidth_sma3nz',\n",
        " 'F3amplitudeLogRelF0_sma3nz'], index = range(1))\n",
        "\n",
        "\n",
        "  #for n in range(ravdess_df.shape[0]):\n",
        "\n",
        "  signal, sampling_rate = audiofile.read(ruta ,  always_2d=True)\n",
        "  fn= smile.process_signal(signal, sampling_rate)\n",
        "  df_reset=fn.reset_index(drop=True)\n",
        "\n",
        "\n",
        "  dataAudio.iloc[0] = df_reset.mean()\n",
        "\n",
        "  return dataAudio\n",
        "##=======================================================##\n",
        "\n",
        "def QuitarRuidoGENERAL (RutaOrig , RutaDest):\n",
        "\n",
        "  x , sr = librosa.load(RutaOrig)\n",
        "  clip = librosa.effects.split(x, top_db= 10)\n",
        "  wav_data = []\n",
        "  for c in clip:\n",
        "\n",
        "    datos = x[c[0]: c[1]]\n",
        "    wav_data.extend(datos)\n",
        "\n",
        "  sf.write(RutaDest, wav_data, sr)\n",
        "##========================================================##\n",
        "ruta = 'input/'+ os.listdir('input')[0]\n",
        "rutaOrigen=ruta\n",
        "RutaDestino =rutaOrigen.replace('audio_speech_actors_01-24','SinRuidoGeneral_audio_speech_actors_01-24')\n",
        "QuitarRuidoGENERAL(rutaOrigen ,RutaDestino)\n",
        "AudioSinRuido=RutaDestino\n",
        "dato_audio = ExtraerCaracteristicas(AudioSinRuido)\n",
        "\n",
        "# Eliminando caracteristicas ['slope500-1500_sma3','mfcc3_sma3','logRelF0-H1-A3_sma3nz']\n",
        "dato_audio=dato_audio.drop(['slope500-1500_sma3','mfcc3_sma3','logRelF0-H1-A3_sma3nz'] , axis =1)\n",
        "\n",
        "sc = joblib.load('189_Normalizacion.pkl')\n",
        "x_test_std = sc.transform(dato_audio)\n",
        "clf = joblib.load('189_Modelo_Prueba.pkl')\n",
        "y_predict = clf.predict(x_test_std)\n",
        "y_predict1=np.argmax(y_predict, axis=1)\n",
        "if y_predict1[0] == 0:\n",
        "  print('Angry')\n",
        "elif y_predict1[0] == 1:\n",
        "  print('Happy')\n",
        "elif y_predict1[0] == 2:\n",
        "  print('Neutral')\n",
        "else:\n",
        "  print('Sad')  \n",
        "\n"
      ],
      "metadata": {
        "colab": {
          "base_uri": "https://localhost:8080/"
        },
        "id": "NcYylRYDGfSi",
        "outputId": "bcd307d3-2e10-457a-bac6-088fd7e5c2d2"
      },
      "execution_count": null,
      "outputs": [
        {
          "output_type": "stream",
          "name": "stdout",
          "text": [
            "Angry\n"
          ]
        }
      ]
    },
    {
      "cell_type": "markdown",
      "source": [
        "Prueba 242"
      ],
      "metadata": {
        "id": "TU7hKt-2HvT8"
      }
    },
    {
      "cell_type": "code",
      "source": [
        "import opensmile\n",
        "import audiofile\n",
        "import os\n",
        "import pandas as pd\n",
        "import numpy as np\n",
        "import joblib\n",
        "\n",
        "def ExtraerCaracteristicas (ruta): #ingresa df:Dataframe con los path de las rutas de audio , sale dataAudio con las caracteristicas LowLevelDescriptors\n",
        "  smile = opensmile.Smile(\n",
        "    feature_set=opensmile.FeatureSet.eGeMAPSv02,\n",
        "    feature_level=opensmile.FeatureLevel.LowLevelDescriptors,\n",
        "  )\n",
        "  \n",
        "  dataAudio = pd.DataFrame(columns =['Loudness_sma3',\n",
        " 'alphaRatio_sma3',\n",
        " 'hammarbergIndex_sma3',\n",
        " 'slope0-500_sma3',\n",
        " 'slope500-1500_sma3',\n",
        " 'spectralFlux_sma3',\n",
        " 'mfcc1_sma3',\n",
        " 'mfcc2_sma3',\n",
        " 'mfcc3_sma3',\n",
        " 'mfcc4_sma3',\n",
        " 'F0semitoneFrom27.5Hz_sma3nz',\n",
        " 'jitterLocal_sma3nz',\n",
        " 'shimmerLocaldB_sma3nz',\n",
        " 'HNRdBACF_sma3nz',\n",
        " 'logRelF0-H1-H2_sma3nz',\n",
        " 'logRelF0-H1-A3_sma3nz',\n",
        " 'F1frequency_sma3nz',\n",
        " 'F1bandwidth_sma3nz',\n",
        " 'F1amplitudeLogRelF0_sma3nz',\n",
        " 'F2frequency_sma3nz',\n",
        " 'F2bandwidth_sma3nz',\n",
        " 'F2amplitudeLogRelF0_sma3nz',\n",
        " 'F3frequency_sma3nz',\n",
        " 'F3bandwidth_sma3nz',\n",
        " 'F3amplitudeLogRelF0_sma3nz'], index = range(1))\n",
        "\n",
        "\n",
        "  #for n in range(ravdess_df.shape[0]):\n",
        "\n",
        "  signal, sampling_rate = audiofile.read(ruta ,  always_2d=True)\n",
        "  fn= smile.process_signal(signal, sampling_rate)\n",
        "  df_reset=fn.reset_index(drop=True)\n",
        "\n",
        "\n",
        "  dataAudio.iloc[0] = df_reset.mean()\n",
        "\n",
        "  return dataAudio\n",
        "##=======================================================##\n",
        "\n",
        "ruta = 'input/'+ os.listdir('input')[0]\n",
        "dato_audio = ExtraerCaracteristicas(ruta)\n",
        "\n",
        "clf = joblib.load('242_Modelo_Prueba.pkl')\n",
        "y_predict = clf.predict(dato_audio)\n",
        "\n",
        "if y_predict[0] == 0:\n",
        "  print('Angry')\n",
        "elif y_predict[0] == 1:\n",
        "  print('Happy')\n",
        "elif y_predict[0] == 2:\n",
        "  print('Neutral')\n",
        "else:\n",
        "  print('Sad')  \n",
        "\n"
      ],
      "metadata": {
        "colab": {
          "base_uri": "https://localhost:8080/"
        },
        "id": "tHP0kRBwDtXM",
        "outputId": "935e2917-2a96-453d-b02d-3d03f1e3888f"
      },
      "execution_count": null,
      "outputs": [
        {
          "output_type": "stream",
          "name": "stdout",
          "text": [
            "Angry\n"
          ]
        }
      ]
    },
    {
      "cell_type": "code",
      "source": [
        "def fin():\n",
        "  x=8\n",
        "  return x\n",
        "\n",
        "fin()\n",
        "print(x)"
      ],
      "metadata": {
        "colab": {
          "base_uri": "https://localhost:8080/"
        },
        "id": "oaxa4r207ttN",
        "outputId": "fdcd028c-504e-4c22-99d2-00a1782a70be"
      },
      "execution_count": null,
      "outputs": [
        {
          "output_type": "stream",
          "name": "stdout",
          "text": [
            "abcdef\n"
          ]
        }
      ]
    }
  ]
}