{
  "nbformat": 4,
  "nbformat_minor": 0,
  "metadata": {
    "colab": {
      "provenance": [],
      "collapsed_sections": []
    },
    "kernelspec": {
      "name": "python3",
      "display_name": "Python 3"
    },
    "language_info": {
      "name": "python"
    }
  },
  "cells": [
    {
      "cell_type": "code",
      "execution_count": null,
      "metadata": {
        "colab": {
          "base_uri": "https://localhost:8080/"
        },
        "id": "XXiJ1enbK4pc",
        "outputId": "f596f2c8-a8cd-4c29-99e5-fe550240c0ed"
      },
      "outputs": [
        {
          "output_type": "stream",
          "name": "stdout",
          "text": [
            "Looking in indexes: https://pypi.org/simple, https://us-python.pkg.dev/colab-wheels/public/simple/\n",
            "Requirement already satisfied: python-telegram-bot in /usr/local/lib/python3.7/dist-packages (13.13)\n",
            "Requirement already satisfied: certifi in /usr/local/lib/python3.7/dist-packages (from python-telegram-bot) (2022.6.15)\n",
            "Requirement already satisfied: APScheduler==3.6.3 in /usr/local/lib/python3.7/dist-packages (from python-telegram-bot) (3.6.3)\n",
            "Requirement already satisfied: pytz>=2018.6 in /usr/local/lib/python3.7/dist-packages (from python-telegram-bot) (2022.1)\n",
            "Requirement already satisfied: cachetools==4.2.2 in /usr/local/lib/python3.7/dist-packages (from python-telegram-bot) (4.2.2)\n",
            "Requirement already satisfied: tornado>=6.1 in /usr/local/lib/python3.7/dist-packages (from python-telegram-bot) (6.1)\n",
            "Requirement already satisfied: six>=1.4.0 in /usr/local/lib/python3.7/dist-packages (from APScheduler==3.6.3->python-telegram-bot) (1.15.0)\n",
            "Requirement already satisfied: tzlocal>=1.2 in /usr/local/lib/python3.7/dist-packages (from APScheduler==3.6.3->python-telegram-bot) (1.5.1)\n",
            "Requirement already satisfied: setuptools>=0.7 in /usr/local/lib/python3.7/dist-packages (from APScheduler==3.6.3->python-telegram-bot) (57.4.0)\n"
          ]
        }
      ],
      "source": [
        "!pip install python-telegram-bot "
      ]
    },
    {
      "cell_type": "code",
      "source": [
        "#!pip install telegram"
      ],
      "metadata": {
        "colab": {
          "base_uri": "https://localhost:8080/"
        },
        "id": "HE5x5T4fL38h",
        "outputId": "95b37f38-4ea7-4de7-ef0a-a18d662b7cfb"
      },
      "execution_count": null,
      "outputs": [
        {
          "output_type": "stream",
          "name": "stdout",
          "text": [
            "Looking in indexes: https://pypi.org/simple, https://us-python.pkg.dev/colab-wheels/public/simple/\n",
            "Requirement already satisfied: telegram in /usr/local/lib/python3.7/dist-packages (0.0.1)\n"
          ]
        }
      ]
    },
    {
      "cell_type": "code",
      "source": [
        "!pip install opensmile"
      ],
      "metadata": {
        "colab": {
          "base_uri": "https://localhost:8080/"
        },
        "id": "g0KPLJGGLQ5j",
        "outputId": "756d3b41-d5ba-4931-9506-60ae320969a4"
      },
      "execution_count": null,
      "outputs": [
        {
          "output_type": "stream",
          "name": "stdout",
          "text": [
            "Looking in indexes: https://pypi.org/simple, https://us-python.pkg.dev/colab-wheels/public/simple/\n",
            "Requirement already satisfied: opensmile in /usr/local/lib/python3.7/dist-packages (2.4.1)\n",
            "Requirement already satisfied: audobject>=0.6.1 in /usr/local/lib/python3.7/dist-packages (from opensmile) (0.7.1)\n",
            "Requirement already satisfied: audinterface>=0.7.0 in /usr/local/lib/python3.7/dist-packages (from opensmile) (0.8.1)\n",
            "Requirement already satisfied: audresample<2.0.0,>=1.1.0 in /usr/local/lib/python3.7/dist-packages (from audinterface>=0.7.0->opensmile) (1.1.0)\n",
            "Requirement already satisfied: audformat<2.0.0,>=0.10.1 in /usr/local/lib/python3.7/dist-packages (from audinterface>=0.7.0->opensmile) (0.14.3)\n",
            "Requirement already satisfied: iso-639 in /usr/local/lib/python3.7/dist-packages (from audformat<2.0.0,>=0.10.1->audinterface>=0.7.0->opensmile) (0.4.5)\n",
            "Requirement already satisfied: oyaml in /usr/local/lib/python3.7/dist-packages (from audformat<2.0.0,>=0.10.1->audinterface>=0.7.0->opensmile) (1.0)\n",
            "Requirement already satisfied: audiofile>=0.4.0 in /usr/local/lib/python3.7/dist-packages (from audformat<2.0.0,>=0.10.1->audinterface>=0.7.0->opensmile) (1.1.0)\n",
            "Requirement already satisfied: audeer<2.0.0,>=1.18.0 in /usr/local/lib/python3.7/dist-packages (from audformat<2.0.0,>=0.10.1->audinterface>=0.7.0->opensmile) (1.18.0)\n",
            "Requirement already satisfied: pyyaml>=5.4.1 in /usr/local/lib/python3.7/dist-packages (from audformat<2.0.0,>=0.10.1->audinterface>=0.7.0->opensmile) (6.0)\n",
            "Requirement already satisfied: pandas!=1.3.0,!=1.3.1,!=1.3.2,!=1.3.3,!=1.4.0,>=1.1.5 in /usr/local/lib/python3.7/dist-packages (from audformat<2.0.0,>=0.10.1->audinterface>=0.7.0->opensmile) (1.3.5)\n",
            "Requirement already satisfied: iso3166 in /usr/local/lib/python3.7/dist-packages (from audformat<2.0.0,>=0.10.1->audinterface>=0.7.0->opensmile) (2.0.2)\n",
            "Requirement already satisfied: tqdm in /usr/local/lib/python3.7/dist-packages (from audeer<2.0.0,>=1.18.0->audformat<2.0.0,>=0.10.1->audinterface>=0.7.0->opensmile) (4.64.0)\n",
            "Requirement already satisfied: sox in /usr/local/lib/python3.7/dist-packages (from audiofile>=0.4.0->audformat<2.0.0,>=0.10.1->audinterface>=0.7.0->opensmile) (1.4.1)\n",
            "Requirement already satisfied: numpy in /usr/local/lib/python3.7/dist-packages (from audiofile>=0.4.0->audformat<2.0.0,>=0.10.1->audinterface>=0.7.0->opensmile) (1.21.6)\n",
            "Requirement already satisfied: soundfile in /usr/local/lib/python3.7/dist-packages (from audiofile>=0.4.0->audformat<2.0.0,>=0.10.1->audinterface>=0.7.0->opensmile) (0.10.3.post1)\n",
            "Requirement already satisfied: importlib-metadata>=4.8.0 in /usr/local/lib/python3.7/dist-packages (from audobject>=0.6.1->opensmile) (4.11.4)\n",
            "Requirement already satisfied: typing-extensions>=3.6.4 in /usr/local/lib/python3.7/dist-packages (from importlib-metadata>=4.8.0->audobject>=0.6.1->opensmile) (4.1.1)\n",
            "Requirement already satisfied: zipp>=0.5 in /usr/local/lib/python3.7/dist-packages (from importlib-metadata>=4.8.0->audobject>=0.6.1->opensmile) (3.8.0)\n",
            "Requirement already satisfied: pytz>=2017.3 in /usr/local/lib/python3.7/dist-packages (from pandas!=1.3.0,!=1.3.1,!=1.3.2,!=1.3.3,!=1.4.0,>=1.1.5->audformat<2.0.0,>=0.10.1->audinterface>=0.7.0->opensmile) (2022.1)\n",
            "Requirement already satisfied: python-dateutil>=2.7.3 in /usr/local/lib/python3.7/dist-packages (from pandas!=1.3.0,!=1.3.1,!=1.3.2,!=1.3.3,!=1.4.0,>=1.1.5->audformat<2.0.0,>=0.10.1->audinterface>=0.7.0->opensmile) (2.8.2)\n",
            "Requirement already satisfied: six>=1.5 in /usr/local/lib/python3.7/dist-packages (from python-dateutil>=2.7.3->pandas!=1.3.0,!=1.3.1,!=1.3.2,!=1.3.3,!=1.4.0,>=1.1.5->audformat<2.0.0,>=0.10.1->audinterface>=0.7.0->opensmile) (1.15.0)\n",
            "Requirement already satisfied: cffi>=1.0 in /usr/local/lib/python3.7/dist-packages (from soundfile->audiofile>=0.4.0->audformat<2.0.0,>=0.10.1->audinterface>=0.7.0->opensmile) (1.15.0)\n",
            "Requirement already satisfied: pycparser in /usr/local/lib/python3.7/dist-packages (from cffi>=1.0->soundfile->audiofile>=0.4.0->audformat<2.0.0,>=0.10.1->audinterface>=0.7.0->opensmile) (2.21)\n"
          ]
        }
      ]
    },
    {
      "cell_type": "code",
      "source": [
        "\n",
        "\"\"\"\n",
        "Simple Bot to reply to Telegram messages.\n",
        "First, a few handler functions are defined. Then, those functions are passed to\n",
        "the Dispatcher and registered at their respective places.\n",
        "Then, the bot is started and runs until we press Ctrl-C on the command line.\n",
        "Usage:\n",
        "Basic Echobot example, repeats messages.\n",
        "Press Ctrl-C on the command line or send a signal to the process to stop the\n",
        "bot.\n",
        "\"\"\"\n",
        "\n",
        "import logging\n",
        "import opensmile\n",
        "import audiofile\n",
        "import os\n",
        "import pandas as pd\n",
        "import numpy as np\n",
        "import joblib\n",
        "\n",
        "#import opensmile\n",
        "from telegram import Update\n",
        "from telegram import ForceReply\n",
        "from telegram.ext import Updater, CommandHandler, MessageHandler, Filters, CallbackContext\n",
        "\n",
        "\n",
        "# Enable logging\n",
        "logging.basicConfig(\n",
        "    format='%(asctime)s - %(name)s - %(levelname)s - %(message)s', level=logging.INFO\n",
        ")\n",
        "\n",
        "logger = logging.getLogger(__name__)\n",
        "#================================================================================\n",
        "def ExtraerCaracteristicas (ruta): #ingresa df:Dataframe con los path de las rutas de audio , sale dataAudio con las caracteristicas LowLevelDescriptors\n",
        "    smile = opensmile.Smile(\n",
        "    feature_set=opensmile.FeatureSet.eGeMAPSv02,\n",
        "    feature_level=opensmile.FeatureLevel.LowLevelDescriptors,\n",
        "    )\n",
        "  \n",
        "    dataAudio = pd.DataFrame(columns =['Loudness_sma3','alphaRatio_sma3','hammarbergIndex_sma3','slope0-500_sma3','slope500-1500_sma3', 'spectralFlux_sma3',\n",
        "                                       'mfcc1_sma3','mfcc2_sma3','mfcc3_sma3','mfcc4_sma3','F0semitoneFrom27.5Hz_sma3nz','jitterLocal_sma3nz',\n",
        "                                        'shimmerLocaldB_sma3nz', 'HNRdBACF_sma3nz','logRelF0-H1-H2_sma3nz','logRelF0-H1-A3_sma3nz',\n",
        "                                        'F1frequency_sma3nz', 'F1bandwidth_sma3nz','F1amplitudeLogRelF0_sma3nz','F2frequency_sma3nz',\n",
        "                                        'F2bandwidth_sma3nz','F2amplitudeLogRelF0_sma3nz','F3frequency_sma3nz','F3bandwidth_sma3nz',\n",
        "                                        'F3amplitudeLogRelF0_sma3nz'], index = range(1))\n",
        "\n",
        "    #for n in range(ravdess_df.shape[0]):\n",
        "    signal, sampling_rate = audiofile.read(ruta ,  always_2d=True)\n",
        "    fn= smile.process_signal(signal, sampling_rate)\n",
        "    df_reset=fn.reset_index(drop=True)\n",
        "\n",
        "    dataAudio.iloc[0] = df_reset.mean()\n",
        "    return dataAudio\n",
        "##=======================================================##\n",
        "\n",
        "\n",
        "\n",
        "\n",
        "#================================================================================\n",
        "\n",
        "# Define a few command handlers. These usually take the two arguments update and\n",
        "# context.\n",
        "def start(update: Update, context: CallbackContext) -> None:\n",
        "    \"\"\"Send a message when the command /start is issued.\"\"\"\n",
        "    user = update.effective_user\n",
        "    update.message.reply_markdown_v2(\n",
        "        fr'Hi {user.mention_markdown_v2()}\\!',\n",
        "        reply_markup=ForceReply(selective=True), )\n",
        "\n",
        "\n",
        "def help_command(update: Update, context: CallbackContext) -> None:\n",
        "    \"\"\"Send a message when the command /help is issued.\"\"\"\n",
        "    update.message.reply_text('Help!')\n",
        "\n",
        "\n",
        "def echo(update: Update, context: CallbackContext) -> None:\n",
        "    \"\"\"Echo the user message.\"\"\"\n",
        "    update.message.reply_text(update.message.text)\n",
        "\n",
        "def saludar (update: Update, context: CallbackContext) -> None:\n",
        "    \"\"\"Este es un hander  el cual recibe el comando /saludar y muestra un saludo\"\"\"\n",
        "    update.message.reply_text(\"Hola soy el comando saludar\")\n",
        "\n",
        "def IdentificarImagen (update: Update, context: CallbackContext) -> None:\n",
        "    \"\"\"Este es un hander  el cual recibe el comando /saludar y muestra un saludo\"\"\"\n",
        "    photo_file = update.message.photo[-1].get_file()\n",
        "    photo_file.download('imagen_pruba.jpg')\n",
        "\n",
        "    ruta = 'input_audio/'+ os.listdir('input_audio')[0]\n",
        "    dato_audio = ExtraerCaracteristicas(ruta)\n",
        "    sc = joblib.load('modelos/169_Normalizacion.pkl')\n",
        "    x_test_std = sc.transform(dato_audio)\n",
        "    clf = joblib.load('modelos/169_Modelo_Prueba.pkl')\n",
        "    y_predict = clf.predict(x_test_std)\n",
        "    y_predict1=np.argmax(y_predict, axis=1)\n",
        "    if y_predict1[0] == 0:\n",
        "        update.message.reply_text(\"Angry\")\n",
        "    elif y_predict1[0] == 1:\n",
        "        update.message.reply_text('Happy')\n",
        "    elif y_predict1[0] == 2:\n",
        "        update.message.reply_text('Neutral')\n",
        "    else:\n",
        "        update.message.reply_text('Sad')  \n",
        "    \n",
        "    \n",
        "def audiovoz (update: Update, context: CallbackContext) -> None:\n",
        "    \"\"\"Este es un hander  el cual recibe el comando /saludar y muestra un saludo\"\"\"\n",
        "    audio_file = update.message.voice.get_file()\n",
        "    audio_file.download('input_audio/audio_prueba.mp3')\n",
        "    update.message.reply_text(\"Hola soy el Clasificador de emociones\")\n",
        "    ######################################################################\n",
        "    ruta = 'input_audio/'+ os.listdir('input_audio')[0]\n",
        "    dato_audio = ExtraerCaracteristicas(ruta)\n",
        "    sc = joblib.load('modelos/169_Normalizacion.pkl')\n",
        "    x_test_std = sc.transform(dato_audio)\n",
        "    clf = joblib.load('modelos/169_Modelo_Prueba.pkl')\n",
        "    y_predict = clf.predict(x_test_std)\n",
        "    y_predict1=np.argmax(y_predict, axis=1)\n",
        "    if y_predict1[0] == 0:\n",
        "        update.message.reply_text(\"Angry\")\n",
        "    elif y_predict1[0] == 1:\n",
        "        update.message.reply_text('Happy')\n",
        "    elif y_predict1[0] == 2:\n",
        "        update.message.reply_text('Neutral')\n",
        "    else:\n",
        "        update.message.reply_text('Sad')  \n",
        "    \n",
        "\n",
        "\n",
        "def main() -> None:\n",
        "    \"\"\"Start the bot.\"\"\"\n",
        "    # Create the Updater and pass it your bot's token.\n",
        "    updater = Updater(\"COLOCAR TU TOKEN DE BOT TELEGRAM AQUI\")\n",
        "\n",
        "    # Get the dispatcher to register handlers\n",
        "    dispatcher = updater.dispatcher\n",
        "\n",
        "    # on different commands - answer in Telegram\n",
        "    dispatcher.add_handler(CommandHandler(\"start\", start))\n",
        "    dispatcher.add_handler(CommandHandler(\"help\", help_command))\n",
        "    dispatcher.add_handler(CommandHandler(\"saludar\", callback=saludar))\n",
        "\n",
        "    # on non command i.e message - echo the message on Telegram\n",
        "    dispatcher.add_handler(MessageHandler(Filters.text & ~Filters.command, echo))\n",
        "    dispatcher.add_handler(MessageHandler(Filters.photo & ~Filters.command, IdentificarImagen))\n",
        "    dispatcher.add_handler(MessageHandler(Filters.audio & ~Filters.command, audiovoz))\n",
        "    dispatcher.add_handler(MessageHandler(Filters.voice & ~Filters.command, audiovoz))\n",
        "    # Start the Bot\n",
        "    updater.start_polling()\n",
        "\n",
        "    # Run the bot until you press Ctrl-C or the process receives SIGINT,\n",
        "    # SIGTERM or SIGABRT. This should be used most of the time, since\n",
        "    # start_polling() is non-blocking and will stop the bot gracefully.\n",
        "    updater.idle()\n",
        "\n",
        "\n",
        "\n",
        "if __name__ == '__main__':\n",
        "    main()\n",
        "\n"
      ],
      "metadata": {
        "colab": {
          "base_uri": "https://localhost:8080/"
        },
        "id": "6hJxRSyvP2OY",
        "outputId": "b5857ec6-b2f5-4aa1-f66c-655261d37807"
      },
      "execution_count": null,
      "outputs": [
        {
          "output_type": "stream",
          "name": "stderr",
          "text": [
            "2022-07-02 18:48:42,955 - apscheduler.scheduler - INFO - Scheduler started\n",
            "2022-07-02 18:49:24,971 - sox - WARNING - SoX could not be found!\n",
            "\n",
            "    If you do not have SoX, proceed here:\n",
            "     - - - http://sox.sourceforge.net/ - - -\n",
            "\n",
            "    If you do (or think that you should) have SoX, double-check your\n",
            "    path variables.\n",
            "    \n",
            "2022-07-02 18:50:26,035 - tensorflow - WARNING - 5 out of the last 5 calls to <function Model.make_predict_function.<locals>.predict_function at 0x7fbd8819d9e0> triggered tf.function retracing. Tracing is expensive and the excessive number of tracings could be due to (1) creating @tf.function repeatedly in a loop, (2) passing tensors with different shapes, (3) passing Python objects instead of tensors. For (1), please define your @tf.function outside of the loop. For (2), @tf.function has experimental_relax_shapes=True option that relaxes argument shapes that can avoid unnecessary retracing. For (3), please refer to https://www.tensorflow.org/guide/function#controlling_retracing and https://www.tensorflow.org/api_docs/python/tf/function for  more details.\n",
            "2022-07-02 18:51:27,901 - tensorflow - WARNING - 6 out of the last 6 calls to <function Model.make_predict_function.<locals>.predict_function at 0x7fbd87e739e0> triggered tf.function retracing. Tracing is expensive and the excessive number of tracings could be due to (1) creating @tf.function repeatedly in a loop, (2) passing tensors with different shapes, (3) passing Python objects instead of tensors. For (1), please define your @tf.function outside of the loop. For (2), @tf.function has experimental_relax_shapes=True option that relaxes argument shapes that can avoid unnecessary retracing. For (3), please refer to https://www.tensorflow.org/guide/function#controlling_retracing and https://www.tensorflow.org/api_docs/python/tf/function for  more details.\n",
            "2022-07-02 18:52:59,192 - telegram.ext.updater - INFO - Received signal 2 (SIGINT), stopping...\n",
            "2022-07-02 18:52:59,195 - apscheduler.scheduler - INFO - Scheduler has been shut down\n"
          ]
        }
      ]
    }
  ]
}
